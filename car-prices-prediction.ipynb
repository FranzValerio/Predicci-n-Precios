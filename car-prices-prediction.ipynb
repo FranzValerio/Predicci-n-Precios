{
 "cells": [
  {
   "cell_type": "markdown",
   "metadata": {},
   "source": [
    "# Proyecto: Predicción de los precios de automóviles\n",
    "\n",
    "Supongamos que tenemos un sitio web donde las personas pueden comprar y vender autos usados. Cuando llega el momento de ofrecer sus vehículos, los vendedores a menudo lidian con el problema de establecer un precio razonable. Queremos ayudar a nuestros usuarios con un sistema recomendador de precios automático.\n",
    "\n",
    "<center>\n",
    "    <figure>\n",
    "    <img src = \"https://www.cars.com/images/sell/sale-dealer-woman.jpg\" alt=\"Proyecto de un sistema automático de recomendación de precios de automóviles usados\" style=\"width:500px;height:350px;\">\n",
    "    <figcaption> ¿Cómo sugerir un precio adecuado para los automóviles de nuestros usuarios? </figcaption>\n",
    "    </figure>\n",
    "</center>\n",
    "\n",
    "Para ello, le pedimos a los vendedores que especifiquen el modelo, la marca, el año, el kilometraje y otras características importantes de un auto. Con base en dicha información, debemos sugerirles un precioo.\n",
    "\n",
    "Afortunadamente, contamos con un conjunto de datos que contiene las características importantes que consideraremos. El plan del proyecto es el siguiente:\n",
    "\n",
    " 1. Descargar el dataset.\n",
    " 2. Hacer un análisis preliminar de los datos.\n",
    " 3. Establecer una estrategia de validación para garantizar que el modelo genera predicciones correctas.\n",
    " 4. Implementar un modelo de regresión.\n",
    " 5. Hacer un poco de feature engineering para extraer características importantes de los datos para mejorar el modelo.\n",
    " 6. Hacer nuestro modelo estable con regularización y utilizarlo para predecir precios de autos.\n",
    "\n",
    " ## Obteniendo los datos\n",
    "\n",
    " En este caso en particular, se obtuvo el conjunto de datos [Car Features and MSRP](https://www.kaggle.com/datasets/CooperUnion/cardataset?resource=download) de [Kaggle](https://www.kaggle.com/). El archivo se incluye en la carpeta `data` del repositorio.\n",
    "\n",
    "## Análisis exploratorio de datos\n",
    "\n",
    "Para cualquier tarea de machine learning, entender los datos es un paso fundamental. Antes de entrenar cualquier modelo, necesitamos saber qué tipo de datos tenemos y si nos serán útiles. De manera general, buscamos en el conjunto de datos:\n",
    "\n",
    " - La distribución de la variable objetivo.\n",
    " - Las características del conjunto de datos.\n",
    " - La distribución de los valores en estas características.\n",
    " - La calidad de los datos.\n",
    " - El número de valores faltantes.\n",
    "\n",
    " Las bibliotecas que utilizaremos en este proyecto son `NumPy`, `Pandas`, `Plotly` y `Seaborn`"
   ]
  },
  {
   "cell_type": "code",
   "execution_count": 1,
   "metadata": {},
   "outputs": [],
   "source": [
    "import numpy as np\n",
    "import pandas as pd\n",
    "import matplotlib.pyplot as plt\n",
    "import seaborn as sns"
   ]
  },
  {
   "cell_type": "markdown",
   "metadata": {},
   "source": [
    "Importamos los datos"
   ]
  },
  {
   "cell_type": "code",
   "execution_count": 2,
   "metadata": {},
   "outputs": [],
   "source": [
    "data = pd.read_csv('data/data.csv')"
   ]
  },
  {
   "cell_type": "markdown",
   "metadata": {},
   "source": [
    "Verificamos el número de filas en la tabla"
   ]
  },
  {
   "cell_type": "code",
   "execution_count": 3,
   "metadata": {},
   "outputs": [
    {
     "data": {
      "text/plain": [
       "11914"
      ]
     },
     "execution_count": 3,
     "metadata": {},
     "output_type": "execute_result"
    }
   ],
   "source": [
    "len(data)"
   ]
  },
  {
   "cell_type": "markdown",
   "metadata": {},
   "source": [
    "Tenemos cerca de 12,000 registros de autos en este dataset. Veamos las primeras filas del conjunto de datos."
   ]
  },
  {
   "cell_type": "code",
   "execution_count": 4,
   "metadata": {},
   "outputs": [
    {
     "data": {
      "text/html": [
       "<div>\n",
       "<style scoped>\n",
       "    .dataframe tbody tr th:only-of-type {\n",
       "        vertical-align: middle;\n",
       "    }\n",
       "\n",
       "    .dataframe tbody tr th {\n",
       "        vertical-align: top;\n",
       "    }\n",
       "\n",
       "    .dataframe thead th {\n",
       "        text-align: right;\n",
       "    }\n",
       "</style>\n",
       "<table border=\"1\" class=\"dataframe\">\n",
       "  <thead>\n",
       "    <tr style=\"text-align: right;\">\n",
       "      <th></th>\n",
       "      <th>Make</th>\n",
       "      <th>Model</th>\n",
       "      <th>Year</th>\n",
       "      <th>Engine Fuel Type</th>\n",
       "      <th>Engine HP</th>\n",
       "      <th>Engine Cylinders</th>\n",
       "      <th>Transmission Type</th>\n",
       "      <th>Driven_Wheels</th>\n",
       "      <th>Number of Doors</th>\n",
       "      <th>Market Category</th>\n",
       "      <th>Vehicle Size</th>\n",
       "      <th>Vehicle Style</th>\n",
       "      <th>highway MPG</th>\n",
       "      <th>city mpg</th>\n",
       "      <th>Popularity</th>\n",
       "      <th>MSRP</th>\n",
       "    </tr>\n",
       "  </thead>\n",
       "  <tbody>\n",
       "    <tr>\n",
       "      <th>0</th>\n",
       "      <td>BMW</td>\n",
       "      <td>1 Series M</td>\n",
       "      <td>2011</td>\n",
       "      <td>premium unleaded (required)</td>\n",
       "      <td>335.0</td>\n",
       "      <td>6.0</td>\n",
       "      <td>MANUAL</td>\n",
       "      <td>rear wheel drive</td>\n",
       "      <td>2.0</td>\n",
       "      <td>Factory Tuner,Luxury,High-Performance</td>\n",
       "      <td>Compact</td>\n",
       "      <td>Coupe</td>\n",
       "      <td>26</td>\n",
       "      <td>19</td>\n",
       "      <td>3916</td>\n",
       "      <td>46135</td>\n",
       "    </tr>\n",
       "    <tr>\n",
       "      <th>1</th>\n",
       "      <td>BMW</td>\n",
       "      <td>1 Series</td>\n",
       "      <td>2011</td>\n",
       "      <td>premium unleaded (required)</td>\n",
       "      <td>300.0</td>\n",
       "      <td>6.0</td>\n",
       "      <td>MANUAL</td>\n",
       "      <td>rear wheel drive</td>\n",
       "      <td>2.0</td>\n",
       "      <td>Luxury,Performance</td>\n",
       "      <td>Compact</td>\n",
       "      <td>Convertible</td>\n",
       "      <td>28</td>\n",
       "      <td>19</td>\n",
       "      <td>3916</td>\n",
       "      <td>40650</td>\n",
       "    </tr>\n",
       "    <tr>\n",
       "      <th>2</th>\n",
       "      <td>BMW</td>\n",
       "      <td>1 Series</td>\n",
       "      <td>2011</td>\n",
       "      <td>premium unleaded (required)</td>\n",
       "      <td>300.0</td>\n",
       "      <td>6.0</td>\n",
       "      <td>MANUAL</td>\n",
       "      <td>rear wheel drive</td>\n",
       "      <td>2.0</td>\n",
       "      <td>Luxury,High-Performance</td>\n",
       "      <td>Compact</td>\n",
       "      <td>Coupe</td>\n",
       "      <td>28</td>\n",
       "      <td>20</td>\n",
       "      <td>3916</td>\n",
       "      <td>36350</td>\n",
       "    </tr>\n",
       "    <tr>\n",
       "      <th>3</th>\n",
       "      <td>BMW</td>\n",
       "      <td>1 Series</td>\n",
       "      <td>2011</td>\n",
       "      <td>premium unleaded (required)</td>\n",
       "      <td>230.0</td>\n",
       "      <td>6.0</td>\n",
       "      <td>MANUAL</td>\n",
       "      <td>rear wheel drive</td>\n",
       "      <td>2.0</td>\n",
       "      <td>Luxury,Performance</td>\n",
       "      <td>Compact</td>\n",
       "      <td>Coupe</td>\n",
       "      <td>28</td>\n",
       "      <td>18</td>\n",
       "      <td>3916</td>\n",
       "      <td>29450</td>\n",
       "    </tr>\n",
       "    <tr>\n",
       "      <th>4</th>\n",
       "      <td>BMW</td>\n",
       "      <td>1 Series</td>\n",
       "      <td>2011</td>\n",
       "      <td>premium unleaded (required)</td>\n",
       "      <td>230.0</td>\n",
       "      <td>6.0</td>\n",
       "      <td>MANUAL</td>\n",
       "      <td>rear wheel drive</td>\n",
       "      <td>2.0</td>\n",
       "      <td>Luxury</td>\n",
       "      <td>Compact</td>\n",
       "      <td>Convertible</td>\n",
       "      <td>28</td>\n",
       "      <td>18</td>\n",
       "      <td>3916</td>\n",
       "      <td>34500</td>\n",
       "    </tr>\n",
       "  </tbody>\n",
       "</table>\n",
       "</div>"
      ],
      "text/plain": [
       "  Make       Model  Year             Engine Fuel Type  Engine HP  \\\n",
       "0  BMW  1 Series M  2011  premium unleaded (required)      335.0   \n",
       "1  BMW    1 Series  2011  premium unleaded (required)      300.0   \n",
       "2  BMW    1 Series  2011  premium unleaded (required)      300.0   \n",
       "3  BMW    1 Series  2011  premium unleaded (required)      230.0   \n",
       "4  BMW    1 Series  2011  premium unleaded (required)      230.0   \n",
       "\n",
       "   Engine Cylinders Transmission Type     Driven_Wheels  Number of Doors  \\\n",
       "0               6.0            MANUAL  rear wheel drive              2.0   \n",
       "1               6.0            MANUAL  rear wheel drive              2.0   \n",
       "2               6.0            MANUAL  rear wheel drive              2.0   \n",
       "3               6.0            MANUAL  rear wheel drive              2.0   \n",
       "4               6.0            MANUAL  rear wheel drive              2.0   \n",
       "\n",
       "                         Market Category Vehicle Size Vehicle Style  \\\n",
       "0  Factory Tuner,Luxury,High-Performance      Compact         Coupe   \n",
       "1                     Luxury,Performance      Compact   Convertible   \n",
       "2                Luxury,High-Performance      Compact         Coupe   \n",
       "3                     Luxury,Performance      Compact         Coupe   \n",
       "4                                 Luxury      Compact   Convertible   \n",
       "\n",
       "   highway MPG  city mpg  Popularity   MSRP  \n",
       "0           26        19        3916  46135  \n",
       "1           28        19        3916  40650  \n",
       "2           28        20        3916  36350  \n",
       "3           28        18        3916  29450  \n",
       "4           28        18        3916  34500  "
      ]
     },
     "execution_count": 4,
     "metadata": {},
     "output_type": "execute_result"
    }
   ],
   "source": [
    "data.head()"
   ]
  },
  {
   "cell_type": "markdown",
   "metadata": {},
   "source": [
    "A partir de esta primera inspección visual, podemos notar que existen algunas inconsistencias en los datos. Los nombres de las columnas tienen espacios y guiones bajos. También, algunos de los valores de las características están en mayúsculas, etc. \n",
    "\n",
    "Esto resulta inconveniente y puede llegar a ser confuso para nuestros propósitos. Así que debemos normalizar los datos, de preferencia, reemplazar los espacios con guiones bajos y poner todas las letras en minúsculas."
   ]
  },
  {
   "cell_type": "code",
   "execution_count": 5,
   "metadata": {},
   "outputs": [],
   "source": [
    "data.columns = data.columns.str.lower().str.replace(' ', '_')"
   ]
  },
  {
   "cell_type": "code",
   "execution_count": 6,
   "metadata": {},
   "outputs": [],
   "source": [
    "string_columns = list(data.dtypes[data.dtypes == 'object'].index)"
   ]
  },
  {
   "cell_type": "code",
   "execution_count": 7,
   "metadata": {},
   "outputs": [],
   "source": [
    "for col in string_columns:\n",
    "    data[col] = data[col].str.lower().str.replace(' ', '_')"
   ]
  },
  {
   "cell_type": "markdown",
   "metadata": {},
   "source": [
    "Después de estos cambios, veamos si el conjunto de datos se ve más uniforme:"
   ]
  },
  {
   "cell_type": "code",
   "execution_count": 8,
   "metadata": {},
   "outputs": [
    {
     "data": {
      "text/html": [
       "<div>\n",
       "<style scoped>\n",
       "    .dataframe tbody tr th:only-of-type {\n",
       "        vertical-align: middle;\n",
       "    }\n",
       "\n",
       "    .dataframe tbody tr th {\n",
       "        vertical-align: top;\n",
       "    }\n",
       "\n",
       "    .dataframe thead th {\n",
       "        text-align: right;\n",
       "    }\n",
       "</style>\n",
       "<table border=\"1\" class=\"dataframe\">\n",
       "  <thead>\n",
       "    <tr style=\"text-align: right;\">\n",
       "      <th></th>\n",
       "      <th>make</th>\n",
       "      <th>model</th>\n",
       "      <th>year</th>\n",
       "      <th>engine_fuel_type</th>\n",
       "      <th>engine_hp</th>\n",
       "      <th>engine_cylinders</th>\n",
       "      <th>transmission_type</th>\n",
       "      <th>driven_wheels</th>\n",
       "      <th>number_of_doors</th>\n",
       "      <th>market_category</th>\n",
       "      <th>vehicle_size</th>\n",
       "      <th>vehicle_style</th>\n",
       "      <th>highway_mpg</th>\n",
       "      <th>city_mpg</th>\n",
       "      <th>popularity</th>\n",
       "      <th>msrp</th>\n",
       "    </tr>\n",
       "  </thead>\n",
       "  <tbody>\n",
       "    <tr>\n",
       "      <th>0</th>\n",
       "      <td>bmw</td>\n",
       "      <td>1_series_m</td>\n",
       "      <td>2011</td>\n",
       "      <td>premium_unleaded_(required)</td>\n",
       "      <td>335.0</td>\n",
       "      <td>6.0</td>\n",
       "      <td>manual</td>\n",
       "      <td>rear_wheel_drive</td>\n",
       "      <td>2.0</td>\n",
       "      <td>factory_tuner,luxury,high-performance</td>\n",
       "      <td>compact</td>\n",
       "      <td>coupe</td>\n",
       "      <td>26</td>\n",
       "      <td>19</td>\n",
       "      <td>3916</td>\n",
       "      <td>46135</td>\n",
       "    </tr>\n",
       "    <tr>\n",
       "      <th>1</th>\n",
       "      <td>bmw</td>\n",
       "      <td>1_series</td>\n",
       "      <td>2011</td>\n",
       "      <td>premium_unleaded_(required)</td>\n",
       "      <td>300.0</td>\n",
       "      <td>6.0</td>\n",
       "      <td>manual</td>\n",
       "      <td>rear_wheel_drive</td>\n",
       "      <td>2.0</td>\n",
       "      <td>luxury,performance</td>\n",
       "      <td>compact</td>\n",
       "      <td>convertible</td>\n",
       "      <td>28</td>\n",
       "      <td>19</td>\n",
       "      <td>3916</td>\n",
       "      <td>40650</td>\n",
       "    </tr>\n",
       "    <tr>\n",
       "      <th>2</th>\n",
       "      <td>bmw</td>\n",
       "      <td>1_series</td>\n",
       "      <td>2011</td>\n",
       "      <td>premium_unleaded_(required)</td>\n",
       "      <td>300.0</td>\n",
       "      <td>6.0</td>\n",
       "      <td>manual</td>\n",
       "      <td>rear_wheel_drive</td>\n",
       "      <td>2.0</td>\n",
       "      <td>luxury,high-performance</td>\n",
       "      <td>compact</td>\n",
       "      <td>coupe</td>\n",
       "      <td>28</td>\n",
       "      <td>20</td>\n",
       "      <td>3916</td>\n",
       "      <td>36350</td>\n",
       "    </tr>\n",
       "    <tr>\n",
       "      <th>3</th>\n",
       "      <td>bmw</td>\n",
       "      <td>1_series</td>\n",
       "      <td>2011</td>\n",
       "      <td>premium_unleaded_(required)</td>\n",
       "      <td>230.0</td>\n",
       "      <td>6.0</td>\n",
       "      <td>manual</td>\n",
       "      <td>rear_wheel_drive</td>\n",
       "      <td>2.0</td>\n",
       "      <td>luxury,performance</td>\n",
       "      <td>compact</td>\n",
       "      <td>coupe</td>\n",
       "      <td>28</td>\n",
       "      <td>18</td>\n",
       "      <td>3916</td>\n",
       "      <td>29450</td>\n",
       "    </tr>\n",
       "    <tr>\n",
       "      <th>4</th>\n",
       "      <td>bmw</td>\n",
       "      <td>1_series</td>\n",
       "      <td>2011</td>\n",
       "      <td>premium_unleaded_(required)</td>\n",
       "      <td>230.0</td>\n",
       "      <td>6.0</td>\n",
       "      <td>manual</td>\n",
       "      <td>rear_wheel_drive</td>\n",
       "      <td>2.0</td>\n",
       "      <td>luxury</td>\n",
       "      <td>compact</td>\n",
       "      <td>convertible</td>\n",
       "      <td>28</td>\n",
       "      <td>18</td>\n",
       "      <td>3916</td>\n",
       "      <td>34500</td>\n",
       "    </tr>\n",
       "  </tbody>\n",
       "</table>\n",
       "</div>"
      ],
      "text/plain": [
       "  make       model  year             engine_fuel_type  engine_hp  \\\n",
       "0  bmw  1_series_m  2011  premium_unleaded_(required)      335.0   \n",
       "1  bmw    1_series  2011  premium_unleaded_(required)      300.0   \n",
       "2  bmw    1_series  2011  premium_unleaded_(required)      300.0   \n",
       "3  bmw    1_series  2011  premium_unleaded_(required)      230.0   \n",
       "4  bmw    1_series  2011  premium_unleaded_(required)      230.0   \n",
       "\n",
       "   engine_cylinders transmission_type     driven_wheels  number_of_doors  \\\n",
       "0               6.0            manual  rear_wheel_drive              2.0   \n",
       "1               6.0            manual  rear_wheel_drive              2.0   \n",
       "2               6.0            manual  rear_wheel_drive              2.0   \n",
       "3               6.0            manual  rear_wheel_drive              2.0   \n",
       "4               6.0            manual  rear_wheel_drive              2.0   \n",
       "\n",
       "                         market_category vehicle_size vehicle_style  \\\n",
       "0  factory_tuner,luxury,high-performance      compact         coupe   \n",
       "1                     luxury,performance      compact   convertible   \n",
       "2                luxury,high-performance      compact         coupe   \n",
       "3                     luxury,performance      compact         coupe   \n",
       "4                                 luxury      compact   convertible   \n",
       "\n",
       "   highway_mpg  city_mpg  popularity   msrp  \n",
       "0           26        19        3916  46135  \n",
       "1           28        19        3916  40650  \n",
       "2           28        20        3916  36350  \n",
       "3           28        18        3916  29450  \n",
       "4           28        18        3916  34500  "
      ]
     },
     "execution_count": 8,
     "metadata": {},
     "output_type": "execute_result"
    }
   ],
   "source": [
    "data.head()"
   ]
  },
  {
   "cell_type": "markdown",
   "metadata": {},
   "source": [
    "Muy bien, continuemos con nuestro proyecto. Ahora que hemos normalizado nuestros valores string, prestamos atención al contenido de las columnas.\n",
    "\n",
    " - `make`: representa la marca del auto (BMW, Toyota, etc.).\n",
    " - `model`: es el modelo del auto.\n",
    " - `year`: el año en el que el auto fue manufacturado.\n",
    " - `engine_fuel_type`: tipo de combustible que el motor utiliza.\n",
    " - `engine_hp`: potencia del motor en caballos de fuerza (HP).\n",
    " - `engine_cylinders`: número de cilindros del motor.\n",
    " - `transmission_type`: tipo de transmisión del auto (manual o automática).\n",
    " - `driven_wheels`: tipo de tracción (delantera, trasera o completa).\n",
    " - `number_of_doors`: número de puertas.\n",
    " - `market_category`: tipo de mercado del auto (lujo, alto rendimiento, etc).\n",
    " - `vehicle_size`: tamaño del auto.\n",
    " - `vehicle_style`: estilo del vehículo (sedán o convertible).\n",
    " - `highway_mpg`: cantidad de millas recorridas por galón (mpg) en carretera.\n",
    " - `city_mpy`: cantidad de millas recorridas por galón en ciudad.\n",
    " - `popularity`: popularidad del auto respecto al número de veces que el auto fue mencionado en el stream de Twitter.\n",
    " - `msrp`: precio sugerido por el fabricante en dólares (manufacturer's suggested retail price).\n",
    "\n",
    "En nuestro caso, la columna más interesante es la última, `msrp`, la cual en esencia contiene información acerca del precio del auto. La utilizaremos para predecir el precio de un auto.\n",
    "\n",
    "Uno de los primeros pasos de un análisis exploratorio de datos es el ver cómo se comportan los valores de la variable que deseamos predecir. Generalmente lo logramos a través de una inspección visual de su distribución. Podemos utilizar entonces un histograma para ver esta distribución."
   ]
  },
  {
   "cell_type": "code",
   "execution_count": 9,
   "metadata": {},
   "outputs": [
    {
     "data": {
      "image/png": "[encoded data removed]",
      "text/plain": [
       "<Figure size 640x480 with 1 Axes>"
      ]
     },
     "metadata": {},
     "output_type": "display_data"
    }
   ],
   "source": [
    "sns.histplot(data.msrp, bins = 40)\n",
    "plt.xlabel('Precio')\n",
    "plt.ylabel('Frecuencia')\n",
    "plt.title('Distribución de precios')\n",
    "plt.show()"
   ]
  },
  {
   "cell_type": "markdown",
   "metadata": {},
   "source": [
    "Observamos de inmediato que la distribución de los precios muestra que existe una gran cantidad de autos de bajo precio y muy pocos con un valor alto. Hagamos un zoom tomando sólo los autos que cuesten menos de $100,000 USD."
   ]
  },
  {
   "cell_type": "code",
   "execution_count": 10,
   "metadata": {},
   "outputs": [
    {
     "data": {
      "image/png": "[encoded data removed]",
      "text/plain": [
       "<Figure size 640x480 with 1 Axes>"
      ]
     },
     "metadata": {},
     "output_type": "display_data"
    }
   ],
   "source": [
    "sns.histplot(data.msrp[data.msrp < 100000])\n",
    "plt.xlabel('Precio')\n",
    "plt.ylabel('Frecuencia')\n",
    "plt.title('Distribución de precios')\n",
    "plt.show()"
   ]
  },
  {
   "cell_type": "markdown",
   "metadata": {},
   "source": [
    "Esta cola a la izquierda nos dificulta ver la distribución, pero más aún, puede llegar a confundir a los resultados del modelo, de tal forma que no aprenderá lo suficiente. \n",
    "\n",
    "Una forma sencilla de resolver este problema es utilizando una *transformación logarítmica*.\n",
    "\n",
    "$$y_{\\text{nuevo}} = \\log (y + 1)$$"
   ]
  },
  {
   "cell_type": "code",
   "execution_count": 11,
   "metadata": {},
   "outputs": [],
   "source": [
    "log_price = np.log1p(data['msrp'])"
   ]
  },
  {
   "cell_type": "markdown",
   "metadata": {},
   "source": [
    "Veamos la nueva distribución de los datos logarítmicos."
   ]
  },
  {
   "cell_type": "code",
   "execution_count": 12,
   "metadata": {},
   "outputs": [
    {
     "data": {
      "image/png": "[encoded data removed]",
      "text/plain": [
       "<Figure size 640x480 with 1 Axes>"
      ]
     },
     "metadata": {},
     "output_type": "display_data"
    }
   ],
   "source": [
    "sns.histplot(log_price)\n",
    "plt.xlabel('log(precio + 1)')\n",
    "plt.ylabel('Frecuencia')\n",
    "plt.title('Distribución de precios después de la transformación logarítmica')\n",
    "plt.show()"
   ]
  },
  {
   "cell_type": "markdown",
   "metadata": {},
   "source": [
    "Ahora sí, podemos observar que la distribución de los precios se asemeja a una campana. La distribución no es *normal*, debido a la presencia de la cola larga a en los precios más bajos, sin embargo el modelo puede lidiar con ello más fácilmente.\n",
    "\n",
    "Ahora pasamos a otro punto importante en nuestro análisis exploratorio: buscar valores faltantes. Esto es necesario ya que ningún modelo de machine learning puede lidiar con valores nulos de manera automática. Debemos saber si necesitamos hacer algo especial para manejar dichos valores. \n",
    "\n",
    "Verificamos entonces si hay valores nulos en el dataset."
   ]
  },
  {
   "cell_type": "code",
   "execution_count": 13,
   "metadata": {},
   "outputs": [
    {
     "data": {
      "text/plain": [
       "make                    0\n",
       "model                   0\n",
       "year                    0\n",
       "engine_fuel_type        3\n",
       "engine_hp              69\n",
       "engine_cylinders       30\n",
       "transmission_type       0\n",
       "driven_wheels           0\n",
       "number_of_doors         6\n",
       "market_category      3742\n",
       "vehicle_size            0\n",
       "vehicle_style           0\n",
       "highway_mpg             0\n",
       "city_mpg                0\n",
       "popularity              0\n",
       "msrp                    0\n",
       "dtype: int64"
      ]
     },
     "execution_count": 13,
     "metadata": {},
     "output_type": "execute_result"
    }
   ],
   "source": [
    "data.isnull().sum()"
   ]
  },
  {
   "cell_type": "markdown",
   "metadata": {},
   "source": [
    "La buena noticia es que la columna `msrp` no tiene valores nulos. Podemos apreciar que la columna `market_category` tiene alrededor de 4000 datos faltantes. Más adelante veremos qué podemos hacer con estos datos.\n",
    "\n",
    "## Validación\n",
    "\n",
    "El siguiente paso es el establecer una estrategia de validación para garantizar que los modelos que entrenemos sean buenos y puedan generalizar. Es decir que el modelo pueda ser aplicado a nuevos datos nunca antes vistos por él. \n",
    "\n",
    "Para ello, utilizamos la *validación*. Necesitamos dividir al conjunto de datos en tres partes: *entrenamiento*, *validación* y *test*. Dividiremos los datos de la siguiente manera:\n",
    "\n",
    " - 20% de los datos serán para la validación.\n",
    " - 20% de los datos serán para el test.\n",
    " - 60% de los datos serán para el entrenamiento.\n",
    "\n"
   ]
  },
  {
   "cell_type": "code",
   "execution_count": 14,
   "metadata": {},
   "outputs": [],
   "source": [
    "n = len(data) # número de columnas del dataframe\n",
    "\n",
    "# Calculamos el número de datos a utilizar en cada etapa\n",
    "\n",
    "n_val = int(0.2 * n)\n",
    "\n",
    "n_test = int(0.2 * n)\n",
    "\n",
    "n_train = n - (n_val + n_test)"
   ]
  },
  {
   "cell_type": "code",
   "execution_count": 15,
   "metadata": {},
   "outputs": [
    {
     "name": "stdout",
     "output_type": "stream",
     "text": [
      "Número de datos totales: 11914\n",
      "Número de datos para entrenamiento: 7150\n",
      "Número de datos para validación: 2382\n",
      "Número de datos para test: 2382\n"
     ]
    }
   ],
   "source": [
    "print(f\"Número de datos totales: {n}\")\n",
    "print(f\"Número de datos para entrenamiento: {n_train}\")\n",
    "print(f\"Número de datos para validación: {n_val}\")\n",
    "print(f\"Número de datos para test: {n_test}\")"
   ]
  },
  {
   "cell_type": "markdown",
   "metadata": {},
   "source": [
    "Adicionalmente, vamos a mezclar el orden de los datos del dataframe:"
   ]
  },
  {
   "cell_type": "code",
   "execution_count": 16,
   "metadata": {},
   "outputs": [
    {
     "data": {
      "text/html": [
       "<div>\n",
       "<style scoped>\n",
       "    .dataframe tbody tr th:only-of-type {\n",
       "        vertical-align: middle;\n",
       "    }\n",
       "\n",
       "    .dataframe tbody tr th {\n",
       "        vertical-align: top;\n",
       "    }\n",
       "\n",
       "    .dataframe thead th {\n",
       "        text-align: right;\n",
       "    }\n",
       "</style>\n",
       "<table border=\"1\" class=\"dataframe\">\n",
       "  <thead>\n",
       "    <tr style=\"text-align: right;\">\n",
       "      <th></th>\n",
       "      <th>make</th>\n",
       "      <th>model</th>\n",
       "      <th>year</th>\n",
       "      <th>engine_fuel_type</th>\n",
       "      <th>engine_hp</th>\n",
       "      <th>engine_cylinders</th>\n",
       "      <th>transmission_type</th>\n",
       "      <th>driven_wheels</th>\n",
       "      <th>number_of_doors</th>\n",
       "      <th>market_category</th>\n",
       "      <th>vehicle_size</th>\n",
       "      <th>vehicle_style</th>\n",
       "      <th>highway_mpg</th>\n",
       "      <th>city_mpg</th>\n",
       "      <th>popularity</th>\n",
       "      <th>msrp</th>\n",
       "    </tr>\n",
       "  </thead>\n",
       "  <tbody>\n",
       "    <tr>\n",
       "      <th>3995</th>\n",
       "      <td>gmc</td>\n",
       "      <td>envoy_xl</td>\n",
       "      <td>2005</td>\n",
       "      <td>regular_unleaded</td>\n",
       "      <td>275.0</td>\n",
       "      <td>6.0</td>\n",
       "      <td>automatic</td>\n",
       "      <td>rear_wheel_drive</td>\n",
       "      <td>4.0</td>\n",
       "      <td>NaN</td>\n",
       "      <td>large</td>\n",
       "      <td>4dr_suv</td>\n",
       "      <td>18</td>\n",
       "      <td>13</td>\n",
       "      <td>549</td>\n",
       "      <td>29695</td>\n",
       "    </tr>\n",
       "    <tr>\n",
       "      <th>7474</th>\n",
       "      <td>volkswagen</td>\n",
       "      <td>passat</td>\n",
       "      <td>2016</td>\n",
       "      <td>regular_unleaded</td>\n",
       "      <td>170.0</td>\n",
       "      <td>4.0</td>\n",
       "      <td>automatic</td>\n",
       "      <td>front_wheel_drive</td>\n",
       "      <td>4.0</td>\n",
       "      <td>NaN</td>\n",
       "      <td>midsize</td>\n",
       "      <td>sedan</td>\n",
       "      <td>38</td>\n",
       "      <td>25</td>\n",
       "      <td>873</td>\n",
       "      <td>30495</td>\n",
       "    </tr>\n",
       "    <tr>\n",
       "      <th>7300</th>\n",
       "      <td>honda</td>\n",
       "      <td>odyssey</td>\n",
       "      <td>2016</td>\n",
       "      <td>regular_unleaded</td>\n",
       "      <td>248.0</td>\n",
       "      <td>6.0</td>\n",
       "      <td>automatic</td>\n",
       "      <td>front_wheel_drive</td>\n",
       "      <td>4.0</td>\n",
       "      <td>NaN</td>\n",
       "      <td>large</td>\n",
       "      <td>passenger_minivan</td>\n",
       "      <td>28</td>\n",
       "      <td>19</td>\n",
       "      <td>2202</td>\n",
       "      <td>37650</td>\n",
       "    </tr>\n",
       "    <tr>\n",
       "      <th>3148</th>\n",
       "      <td>chevrolet</td>\n",
       "      <td>cruze</td>\n",
       "      <td>2015</td>\n",
       "      <td>regular_unleaded</td>\n",
       "      <td>138.0</td>\n",
       "      <td>4.0</td>\n",
       "      <td>manual</td>\n",
       "      <td>front_wheel_drive</td>\n",
       "      <td>4.0</td>\n",
       "      <td>NaN</td>\n",
       "      <td>midsize</td>\n",
       "      <td>sedan</td>\n",
       "      <td>36</td>\n",
       "      <td>25</td>\n",
       "      <td>1385</td>\n",
       "      <td>16170</td>\n",
       "    </tr>\n",
       "    <tr>\n",
       "      <th>747</th>\n",
       "      <td>volvo</td>\n",
       "      <td>740</td>\n",
       "      <td>1991</td>\n",
       "      <td>regular_unleaded</td>\n",
       "      <td>162.0</td>\n",
       "      <td>4.0</td>\n",
       "      <td>automatic</td>\n",
       "      <td>rear_wheel_drive</td>\n",
       "      <td>4.0</td>\n",
       "      <td>luxury,performance</td>\n",
       "      <td>midsize</td>\n",
       "      <td>sedan</td>\n",
       "      <td>20</td>\n",
       "      <td>17</td>\n",
       "      <td>870</td>\n",
       "      <td>2000</td>\n",
       "    </tr>\n",
       "    <tr>\n",
       "      <th>...</th>\n",
       "      <td>...</td>\n",
       "      <td>...</td>\n",
       "      <td>...</td>\n",
       "      <td>...</td>\n",
       "      <td>...</td>\n",
       "      <td>...</td>\n",
       "      <td>...</td>\n",
       "      <td>...</td>\n",
       "      <td>...</td>\n",
       "      <td>...</td>\n",
       "      <td>...</td>\n",
       "      <td>...</td>\n",
       "      <td>...</td>\n",
       "      <td>...</td>\n",
       "      <td>...</td>\n",
       "      <td>...</td>\n",
       "    </tr>\n",
       "    <tr>\n",
       "      <th>11284</th>\n",
       "      <td>toyota</td>\n",
       "      <td>venza</td>\n",
       "      <td>2014</td>\n",
       "      <td>regular_unleaded</td>\n",
       "      <td>181.0</td>\n",
       "      <td>4.0</td>\n",
       "      <td>automatic</td>\n",
       "      <td>front_wheel_drive</td>\n",
       "      <td>4.0</td>\n",
       "      <td>crossover</td>\n",
       "      <td>midsize</td>\n",
       "      <td>wagon</td>\n",
       "      <td>26</td>\n",
       "      <td>20</td>\n",
       "      <td>2031</td>\n",
       "      <td>27950</td>\n",
       "    </tr>\n",
       "    <tr>\n",
       "      <th>5191</th>\n",
       "      <td>pontiac</td>\n",
       "      <td>g6</td>\n",
       "      <td>2009</td>\n",
       "      <td>flex-fuel_(unleaded/e85)</td>\n",
       "      <td>219.0</td>\n",
       "      <td>6.0</td>\n",
       "      <td>automatic</td>\n",
       "      <td>front_wheel_drive</td>\n",
       "      <td>4.0</td>\n",
       "      <td>flex_fuel</td>\n",
       "      <td>midsize</td>\n",
       "      <td>sedan</td>\n",
       "      <td>26</td>\n",
       "      <td>17</td>\n",
       "      <td>210</td>\n",
       "      <td>24710</td>\n",
       "    </tr>\n",
       "    <tr>\n",
       "      <th>5390</th>\n",
       "      <td>volkswagen</td>\n",
       "      <td>golf_gti</td>\n",
       "      <td>2016</td>\n",
       "      <td>premium_unleaded_(recommended)</td>\n",
       "      <td>220.0</td>\n",
       "      <td>4.0</td>\n",
       "      <td>automated_manual</td>\n",
       "      <td>front_wheel_drive</td>\n",
       "      <td>2.0</td>\n",
       "      <td>hatchback,performance</td>\n",
       "      <td>compact</td>\n",
       "      <td>2dr_hatchback</td>\n",
       "      <td>33</td>\n",
       "      <td>25</td>\n",
       "      <td>873</td>\n",
       "      <td>27590</td>\n",
       "    </tr>\n",
       "    <tr>\n",
       "      <th>860</th>\n",
       "      <td>saab</td>\n",
       "      <td>9-5</td>\n",
       "      <td>2009</td>\n",
       "      <td>premium_unleaded_(recommended)</td>\n",
       "      <td>260.0</td>\n",
       "      <td>4.0</td>\n",
       "      <td>automatic</td>\n",
       "      <td>front_wheel_drive</td>\n",
       "      <td>4.0</td>\n",
       "      <td>luxury,performance</td>\n",
       "      <td>midsize</td>\n",
       "      <td>wagon</td>\n",
       "      <td>27</td>\n",
       "      <td>17</td>\n",
       "      <td>376</td>\n",
       "      <td>43270</td>\n",
       "    </tr>\n",
       "    <tr>\n",
       "      <th>7270</th>\n",
       "      <td>lexus</td>\n",
       "      <td>nx_200t</td>\n",
       "      <td>2015</td>\n",
       "      <td>premium_unleaded_(required)</td>\n",
       "      <td>235.0</td>\n",
       "      <td>4.0</td>\n",
       "      <td>automatic</td>\n",
       "      <td>all_wheel_drive</td>\n",
       "      <td>4.0</td>\n",
       "      <td>crossover,luxury</td>\n",
       "      <td>midsize</td>\n",
       "      <td>4dr_suv</td>\n",
       "      <td>28</td>\n",
       "      <td>21</td>\n",
       "      <td>454</td>\n",
       "      <td>35880</td>\n",
       "    </tr>\n",
       "  </tbody>\n",
       "</table>\n",
       "<p>11914 rows × 16 columns</p>\n",
       "</div>"
      ],
      "text/plain": [
       "             make     model  year                engine_fuel_type  engine_hp  \\\n",
       "3995          gmc  envoy_xl  2005                regular_unleaded      275.0   \n",
       "7474   volkswagen    passat  2016                regular_unleaded      170.0   \n",
       "7300        honda   odyssey  2016                regular_unleaded      248.0   \n",
       "3148    chevrolet     cruze  2015                regular_unleaded      138.0   \n",
       "747         volvo       740  1991                regular_unleaded      162.0   \n",
       "...           ...       ...   ...                             ...        ...   \n",
       "11284      toyota     venza  2014                regular_unleaded      181.0   \n",
       "5191      pontiac        g6  2009        flex-fuel_(unleaded/e85)      219.0   \n",
       "5390   volkswagen  golf_gti  2016  premium_unleaded_(recommended)      220.0   \n",
       "860          saab       9-5  2009  premium_unleaded_(recommended)      260.0   \n",
       "7270        lexus   nx_200t  2015     premium_unleaded_(required)      235.0   \n",
       "\n",
       "       engine_cylinders transmission_type      driven_wheels  number_of_doors  \\\n",
       "3995                6.0         automatic   rear_wheel_drive              4.0   \n",
       "7474                4.0         automatic  front_wheel_drive              4.0   \n",
       "7300                6.0         automatic  front_wheel_drive              4.0   \n",
       "3148                4.0            manual  front_wheel_drive              4.0   \n",
       "747                 4.0         automatic   rear_wheel_drive              4.0   \n",
       "...                 ...               ...                ...              ...   \n",
       "11284               4.0         automatic  front_wheel_drive              4.0   \n",
       "5191                6.0         automatic  front_wheel_drive              4.0   \n",
       "5390                4.0  automated_manual  front_wheel_drive              2.0   \n",
       "860                 4.0         automatic  front_wheel_drive              4.0   \n",
       "7270                4.0         automatic    all_wheel_drive              4.0   \n",
       "\n",
       "             market_category vehicle_size      vehicle_style  highway_mpg  \\\n",
       "3995                     NaN        large            4dr_suv           18   \n",
       "7474                     NaN      midsize              sedan           38   \n",
       "7300                     NaN        large  passenger_minivan           28   \n",
       "3148                     NaN      midsize              sedan           36   \n",
       "747       luxury,performance      midsize              sedan           20   \n",
       "...                      ...          ...                ...          ...   \n",
       "11284              crossover      midsize              wagon           26   \n",
       "5191               flex_fuel      midsize              sedan           26   \n",
       "5390   hatchback,performance      compact      2dr_hatchback           33   \n",
       "860       luxury,performance      midsize              wagon           27   \n",
       "7270        crossover,luxury      midsize            4dr_suv           28   \n",
       "\n",
       "       city_mpg  popularity   msrp  \n",
       "3995         13         549  29695  \n",
       "7474         25         873  30495  \n",
       "7300         19        2202  37650  \n",
       "3148         25        1385  16170  \n",
       "747          17         870   2000  \n",
       "...         ...         ...    ...  \n",
       "11284        20        2031  27950  \n",
       "5191         17         210  24710  \n",
       "5390         25         873  27590  \n",
       "860          17         376  43270  \n",
       "7270         21         454  35880  \n",
       "\n",
       "[11914 rows x 16 columns]"
      ]
     },
     "execution_count": 16,
     "metadata": {},
     "output_type": "execute_result"
    }
   ],
   "source": [
    "np.random.seed(42) # Garantizamos reproducibilidad en nuestro proyecto\n",
    "\n",
    "idx = np.arange(n) # Cramos un array de NumPy con los índices de la dataframe\n",
    "\n",
    "np.random.shuffle(idx) # Lo revolvemos\n",
    "\n",
    "data_shuffled = data.iloc[idx]\n",
    "\n",
    "data_shuffled"
   ]
  },
  {
   "cell_type": "markdown",
   "metadata": {},
   "source": [
    "Dividimos el dataframe mezclado en los conjuntos de validación, test y entrenamiento."
   ]
  },
  {
   "cell_type": "code",
   "execution_count": 17,
   "metadata": {},
   "outputs": [],
   "source": [
    "data_train = data_shuffled.iloc[:n_train].copy()\n",
    "\n",
    "data_val = data_shuffled.iloc[n_train:n_train + n_val].copy()\n",
    "\n",
    "data_test = data_shuffled.iloc[n_train + n_val:].copy()"
   ]
  },
  {
   "cell_type": "markdown",
   "metadata": {},
   "source": [
    "Ahora que el dataframe está dividido en tres partes, recordamos que nuestro análisis inicial sugirió aplicar una transformación logarítmica para deshacernos de la cola en la distribución de los precios, por lo que es conveniente aplicarla."
   ]
  },
  {
   "cell_type": "code",
   "execution_count": 18,
   "metadata": {},
   "outputs": [],
   "source": [
    "y_train = np.log1p(data_train.msrp.values)\n",
    "\n",
    "y_val = np.log1p(data_val.msrp.values)\n",
    "\n",
    "y_test = np.log1p(data_test.msrp.values)"
   ]
  },
  {
   "cell_type": "markdown",
   "metadata": {},
   "source": [
    "Adicionalmente, para evitar utilizar la variable objetivo durante el entrenamiento del modelo, podemos remover la columna del dataframe."
   ]
  },
  {
   "cell_type": "code",
   "execution_count": 19,
   "metadata": {},
   "outputs": [],
   "source": [
    "del data_train['msrp']\n",
    "del data_val['msrp']\n",
    "del data_test['msrp']"
   ]
  },
  {
   "cell_type": "markdown",
   "metadata": {},
   "source": [
    "## Machine Learning en problemas de regresión\n",
    "\n",
    "Una vez que hemos hecho el análisis exploratorio de los datos y definido la estrategia de validación, estamos listos para entrenar un modelo. El problema que intentamos resolver es un *problema de regresión*: el objetivo es predecir un número, el precio de un auto. \n",
    "\n",
    "Por simplicidad, utilizaremos el modelo de regresión más simple: *regresión lineal*. \n",
    "\n",
    "Repasemos brevemente la idea detrás de la regresión lineal. De manera general, un modelo de machine learning supervisado tiene la forma:\n",
    "\n",
    "$$ y \\approx g(X) $$\n",
    "\n",
    "donde $y$ es el vector de los valores que queremos predecir y $X$ es una matriz que contiene a las características de las observaciones. \n",
    "\n",
    "Para un solo registro, $y_i$ tenemos la relación $y_i \\approx g(x_i)$. Si tenemos $n$ características, nuestro vector $x_i$ es $n$-dimensional, así que tiene $n$ componentes:\n",
    "\n",
    "$$ x_i = (x_{i1}, x_{i2}, ..., x_{in})$$\n",
    "\n",
    "Entonces, podemos escribir:\n",
    "\n",
    "$$ y_i = g(x_i) = g(x_{i1}, x_{i2}, ..., x_{in})$$\n",
    "\n",
    "En nuestro caso, tenemos 7150 autos en el conjunto de entrenamiento, $n = 7150$. Supongamos que $i=10$, tenemos el auto:"
   ]
  },
  {
   "cell_type": "code",
   "execution_count": 20,
   "metadata": {},
   "outputs": [
    {
     "data": {
      "text/plain": [
       "make                            toyota\n",
       "model                            yaris\n",
       "year                              2015\n",
       "engine_fuel_type      regular_unleaded\n",
       "engine_hp                        106.0\n",
       "engine_cylinders                   4.0\n",
       "transmission_type               manual\n",
       "driven_wheels        front_wheel_drive\n",
       "number_of_doors                    2.0\n",
       "market_category              hatchback\n",
       "vehicle_size                   compact\n",
       "vehicle_style            2dr_hatchback\n",
       "highway_mpg                         37\n",
       "city_mpg                            30\n",
       "popularity                        2031\n",
       "Name: 11815, dtype: object"
      ]
     },
     "execution_count": 20,
     "metadata": {},
     "output_type": "execute_result"
    }
   ],
   "source": [
    "data_train.iloc[10]"
   ]
  },
  {
   "cell_type": "markdown",
   "metadata": {},
   "source": [
    "Para mostrar la idea detrás de la regresión, escogemos algunas características numéricas e ignoramos el resto. Utilicemos `engine_hp`, `highway_mpg` y `popularity`.\n",
    "\n",
    "Asignamos estas características como $x_{i1}$, $x_{i2}$ y $x_{i3}$, respectivamente:\n",
    "\n",
    "$$ x_i = (x_{i1}, x_{i2}, x_{i3}) = (106, 37, 2031) $$\n",
    "\n",
    "La idea es que al aplicar la función $g$ al vector $x_i$ el resultado sea lo más cercano posible al valor en la columna `msrp` para este auto.\n",
    "\n",
    "Si $g$ es un modelo de regresión lineal, entonces tiene la siguiente forma general:\n",
    "\n",
    "$$ g(x_i) = w_0 + x_{i1} w_1 + x_{i2} w_2 + \\dots + x_{in} w_n $$\n",
    "\n",
    "Las variables $w_0, w_1, w_2, ..., w_n$ son los parámetros del modelo. \n",
    "\n",
    " - $w_0$ es el término umbral\n",
    " - $w_i$ son los *pesos* de cada característica $x_{in}$\n",
    "\n",
    "Estos parámetros definen exactamente cómo el modelo debe combinar las características para que las predicciones al final sean tan cercanas al valor real como sea posible. \n",
    "\n",
    "En notación más compacta, tenemos:\n",
    "\n",
    "$$ g(x_i) = w_0 + \\sum_{j=1}^n x_{ij} w_j $$\n",
    "\n",
    "Los valores de los pesos son lo que el modelo aprende cuando es entrenado. Pero, ¿cómo los obtenemos?\n",
    "\n",
    "## Entrenamiento\n",
    "\n",
    "El vector de pesos $w$ puede calcularse con la siguiente fórmula: \n",
    "\n",
    "$$ w = (X^T X)^{-1} X^T y $$\n",
    "\n",
    "donde:\n",
    "\n",
    " - $X^T$ es la matriz transpuesta de $X$\n",
    " - $X^{-1}$ es la matriz inversa de $X$\n",
    "\n",
    "Implementamos esta fórmula en NumPy:"
   ]
  },
  {
   "cell_type": "code",
   "execution_count": 21,
   "metadata": {},
   "outputs": [],
   "source": [
    "def linear_regression(X, y):\n",
    "\n",
    "    ones = np.ones(X.shape[0])\n",
    "\n",
    "    X = np.column_stack([ones, X])\n",
    "\n",
    "    XTX = X.T.dot(X)\n",
    "\n",
    "    XTX_inv = np.linalg.inv(XTX)\n",
    "\n",
    "    w = XTX_inv.dot(X.T).dot(y)\n",
    "\n",
    "    return w[0], w[1:]"
   ]
  },
  {
   "cell_type": "markdown",
   "metadata": {},
   "source": [
    "Para poder utilizar este código necesitamos una matriz $X$ de características y un vector $y$ de la variable objetivo. Vamos a construir la matriz de características a partir de los datos de la dataframe. \n",
    "\n",
    "Comenzaremos con una forma sencilla: seleccionamos algunas características numéricas de la dataframe y con ellas creamos la matriz $X$. En el ejemplo anterior utilizamos sólo algunos, pero ahora utilizaremos:\n",
    "\n",
    " - `engine_hp`, `engine_cylinders`, `highway_mpg`, `city_mpg`, y `popularity`."
   ]
  },
  {
   "cell_type": "code",
   "execution_count": 22,
   "metadata": {},
   "outputs": [],
   "source": [
    "features = ['engine_hp', 'engine_cylinders', 'highway_mpg', 'city_mpg', 'popularity']\n",
    "\n",
    "data_num = data_train[features]"
   ]
  },
  {
   "cell_type": "code",
   "execution_count": 23,
   "metadata": {},
   "outputs": [
    {
     "data": {
      "text/html": [
       "<div>\n",
       "<style scoped>\n",
       "    .dataframe tbody tr th:only-of-type {\n",
       "        vertical-align: middle;\n",
       "    }\n",
       "\n",
       "    .dataframe tbody tr th {\n",
       "        vertical-align: top;\n",
       "    }\n",
       "\n",
       "    .dataframe thead th {\n",
       "        text-align: right;\n",
       "    }\n",
       "</style>\n",
       "<table border=\"1\" class=\"dataframe\">\n",
       "  <thead>\n",
       "    <tr style=\"text-align: right;\">\n",
       "      <th></th>\n",
       "      <th>engine_hp</th>\n",
       "      <th>engine_cylinders</th>\n",
       "      <th>highway_mpg</th>\n",
       "      <th>city_mpg</th>\n",
       "      <th>popularity</th>\n",
       "    </tr>\n",
       "  </thead>\n",
       "  <tbody>\n",
       "    <tr>\n",
       "      <th>3995</th>\n",
       "      <td>275.0</td>\n",
       "      <td>6.0</td>\n",
       "      <td>18</td>\n",
       "      <td>13</td>\n",
       "      <td>549</td>\n",
       "    </tr>\n",
       "    <tr>\n",
       "      <th>7474</th>\n",
       "      <td>170.0</td>\n",
       "      <td>4.0</td>\n",
       "      <td>38</td>\n",
       "      <td>25</td>\n",
       "      <td>873</td>\n",
       "    </tr>\n",
       "    <tr>\n",
       "      <th>7300</th>\n",
       "      <td>248.0</td>\n",
       "      <td>6.0</td>\n",
       "      <td>28</td>\n",
       "      <td>19</td>\n",
       "      <td>2202</td>\n",
       "    </tr>\n",
       "    <tr>\n",
       "      <th>3148</th>\n",
       "      <td>138.0</td>\n",
       "      <td>4.0</td>\n",
       "      <td>36</td>\n",
       "      <td>25</td>\n",
       "      <td>1385</td>\n",
       "    </tr>\n",
       "    <tr>\n",
       "      <th>747</th>\n",
       "      <td>162.0</td>\n",
       "      <td>4.0</td>\n",
       "      <td>20</td>\n",
       "      <td>17</td>\n",
       "      <td>870</td>\n",
       "    </tr>\n",
       "  </tbody>\n",
       "</table>\n",
       "</div>"
      ],
      "text/plain": [
       "      engine_hp  engine_cylinders  highway_mpg  city_mpg  popularity\n",
       "3995      275.0               6.0           18        13         549\n",
       "7474      170.0               4.0           38        25         873\n",
       "7300      248.0               6.0           28        19        2202\n",
       "3148      138.0               4.0           36        25        1385\n",
       "747       162.0               4.0           20        17         870"
      ]
     },
     "execution_count": 23,
     "metadata": {},
     "output_type": "execute_result"
    }
   ],
   "source": [
    "data_num.head()"
   ]
  },
  {
   "cell_type": "markdown",
   "metadata": {},
   "source": [
    "Recordemos que algunas de estas columnas contienen valores nulos. Necesitamos hacer algo al respecto, ya que el modelo de regresión lineal no puede lidiar con este tipo de datos.\n",
    "\n",
    "Una opción es deshacernos de todas las filas que contengan al menos un valor nulo. Sin embargo, la desventaja es que perderemos la información de las columnas restantes. La otra opción es llenar estos datos con otros valores. La forma más común de hacerlo es llenando los valores faltantes con ceros."
   ]
  },
  {
   "cell_type": "code",
   "execution_count": 24,
   "metadata": {},
   "outputs": [],
   "source": [
    "data_num = data_num.fillna(0)"
   ]
  },
  {
   "cell_type": "markdown",
   "metadata": {},
   "source": [
    "Inspeccionamos rápidamente que no tenemos valores nulos."
   ]
  },
  {
   "cell_type": "code",
   "execution_count": 25,
   "metadata": {},
   "outputs": [
    {
     "data": {
      "text/plain": [
       "engine_hp           0\n",
       "engine_cylinders    0\n",
       "highway_mpg         0\n",
       "city_mpg            0\n",
       "popularity          0\n",
       "dtype: int64"
      ]
     },
     "execution_count": 25,
     "metadata": {},
     "output_type": "execute_result"
    }
   ],
   "source": [
    "data_num.isnull().sum()"
   ]
  },
  {
   "cell_type": "markdown",
   "metadata": {},
   "source": [
    "Ahora convertimos la dataframe a un array de NumPy, utilizando la propiedad `values`."
   ]
  },
  {
   "cell_type": "code",
   "execution_count": 26,
   "metadata": {},
   "outputs": [
    {
     "data": {
      "text/plain": [
       "array([[ 275.,    6.,   18.,   13.,  549.],\n",
       "       [ 170.,    4.,   38.,   25.,  873.],\n",
       "       [ 248.,    6.,   28.,   19., 2202.],\n",
       "       ...,\n",
       "       [ 150.,    4.,   24.,   17., 1851.],\n",
       "       [ 160.,    4.,   31.,   22.,  204.],\n",
       "       [ 274.,    4.,   27.,   17., 1439.]])"
      ]
     },
     "execution_count": 26,
     "metadata": {},
     "output_type": "execute_result"
    }
   ],
   "source": [
    "X_train = data_num.values\n",
    "\n",
    "X_train"
   ]
  },
  {
   "cell_type": "markdown",
   "metadata": {},
   "source": [
    "Aplicamos la función que definimos para hacer la regresión lineal:"
   ]
  },
  {
   "cell_type": "code",
   "execution_count": 27,
   "metadata": {},
   "outputs": [],
   "source": [
    "w_0, w = linear_regression(X_train, y_train)"
   ]
  },
  {
   "cell_type": "markdown",
   "metadata": {},
   "source": [
    "## Evaluación del modelo"
   ]
  },
  {
   "cell_type": "markdown",
   "metadata": {},
   "source": [
    "Una vez entrenado el modelo, podemos aplicarlo a los datos de entrenamiento para ver qué tan bien predice."
   ]
  },
  {
   "cell_type": "code",
   "execution_count": 28,
   "metadata": {},
   "outputs": [],
   "source": [
    "y_pred = w_0 + X_train.dot(w)"
   ]
  },
  {
   "cell_type": "markdown",
   "metadata": {},
   "source": [
    "Utilizamos un histograma para ver qué tan buenas son las predicciones respecto a los valores reales."
   ]
  },
  {
   "cell_type": "code",
   "execution_count": 29,
   "metadata": {},
   "outputs": [
    {
     "data": {
      "image/png": "[encoded data removed]",
      "text/plain": [
       "<Figure size 640x480 with 1 Axes>"
      ]
     },
     "metadata": {},
     "output_type": "display_data"
    }
   ],
   "source": [
    "sns.histplot(y_pred, label = 'Predicciones')\n",
    "sns.histplot(y_train, label = 'Objetivo')\n",
    "plt.xlabel('log(precio + 1)')\n",
    "plt.ylabel('Frecuencia')\n",
    "plt.title('Predicciones vs distribución real')\n",
    "plt.legend()\n",
    "plt.show()"
   ]
  },
  {
   "cell_type": "markdown",
   "metadata": {},
   "source": [
    "Podemos observar que al comparar las distribuciones de la variable objetivo y las predicciones generadas por el modelo, las predicciones no son tan cercanas a los valores reales. Pensamos entonces en utilizar una métrica que cuantifique la calidad de nuestro modelo. Una de las más utilizadas es el *error cuadrático medio* (*root mean squared error (RMSE)*).\n",
    "\n",
    "El RMSE nos dice qué tan alejadas están nuestras predicciones respecto a los objetivos verdaderos. Se calcula como:\n",
    "\n",
    "$$ \\text{RMSE} = \\sqrt{\\frac{1}{m} \\sum_{i=1}^m \\left( g(x_i) - y_i \\right)^2 } $$"
   ]
  },
  {
   "cell_type": "code",
   "execution_count": 30,
   "metadata": {},
   "outputs": [],
   "source": [
    "def rmse(y,y_pred):\n",
    "\n",
    "    error = y_pred - y\n",
    "\n",
    "    mse = (error**2).mean()\n",
    "\n",
    "    return np.sqrt(mse)"
   ]
  },
  {
   "cell_type": "markdown",
   "metadata": {},
   "source": [
    "Al aplicarlo en nuestros resultados, obtenemos:"
   ]
  },
  {
   "cell_type": "code",
   "execution_count": 31,
   "metadata": {},
   "outputs": [
    {
     "name": "stdout",
     "output_type": "stream",
     "text": [
      "El error cuadrático medio del modelo, con los datos de entrenamiento, es de: 0.757\n"
     ]
    }
   ],
   "source": [
    "error_modelo = rmse(y_train, y_pred)\n",
    "\n",
    "print(F\"El error cuadrático medio del modelo, con los datos de entrenamiento, es de: {np.round(error_modelo, 3)}\")"
   ]
  },
  {
   "cell_type": "markdown",
   "metadata": {},
   "source": [
    "Es decir, que en promedio, las predicciones del modelo se alejan del valor real en **0.75**. La ventaja de utilizar este tipo de métricas está en que podemos generar otros modelos y comparar qué tan bueno es para predecir.\n",
    "\n",
    "## Validación del modelo\n",
    "\n",
    "A pesar de este resultado, no refleja el hecho de que el propósito del modelo es que logre predecir el precio de autos que no ha visto antes. Para eso se utiliza el conjunto de validación. \n",
    "\n",
    "Anteriormente creamos una matriz `X_train` a partir del data frame `data_train` y la utilizamos para entrenar el modelo. Un procedimiento similar es necesario para obtener una matriz del data frame de validación, `X_val`."
   ]
  },
  {
   "cell_type": "code",
   "execution_count": 32,
   "metadata": {},
   "outputs": [],
   "source": [
    "data_num_val = data_val[features]\n",
    "\n",
    "data_num_val = data_num_val.fillna(0)\n",
    "\n",
    "X_val = data_num_val.values"
   ]
  },
  {
   "cell_type": "markdown",
   "metadata": {},
   "source": [
    "Aplicamos el modelo a `X_val` para obtener predicciones:"
   ]
  },
  {
   "cell_type": "code",
   "execution_count": 33,
   "metadata": {},
   "outputs": [],
   "source": [
    "y_pred_val = w_0 + X_val.dot(w)"
   ]
  },
  {
   "cell_type": "markdown",
   "metadata": {},
   "source": [
    "El array `y_pred_val` contiene predicciones para el conjunto de validación. Ahora podemos utilizarlo y compararlo con los precios reales en `y_val`, utilizando la función RMSE que definimos anteriormente."
   ]
  },
  {
   "cell_type": "code",
   "execution_count": 34,
   "metadata": {},
   "outputs": [
    {
     "name": "stdout",
     "output_type": "stream",
     "text": [
      "El error cuadrático medio del modelo, con los datos de validación, es de: 0.76\n"
     ]
    }
   ],
   "source": [
    "error_val = rmse(y_val, y_pred_val)\n",
    "\n",
    "print(F\"El error cuadrático medio del modelo, con los datos de validación, es de: {np.round(error_modelo, 2)}\")"
   ]
  },
  {
   "cell_type": "markdown",
   "metadata": {},
   "source": [
    "Este valor es el número que debemos tomar en cuenta para comparar los modelos. \n",
    "\n",
    "Otra cosa que puede mejorar nuestro flujo de trabajo es crear una función que prepare los datos $X$ a partir de la dataframe."
   ]
  },
  {
   "cell_type": "code",
   "execution_count": 35,
   "metadata": {},
   "outputs": [],
   "source": [
    "def data_prepare_X(dataframe):\n",
    "\n",
    "    df_num = dataframe[features]\n",
    "\n",
    "    df_num = df_num.fillna(0)\n",
    "\n",
    "    X = df_num.values\n",
    "\n",
    "    return X"
   ]
  },
  {
   "cell_type": "markdown",
   "metadata": {},
   "source": [
    "Entonces, el proceso de entrenamiento y evaluación puede ser ejecutado como:\n",
    "\n",
    "        X_train = data_prepare_X(data_train)\n",
    "        w_0, w = linear_regression(X_train, y_train)\n",
    "\n",
    "        X_val = data_prepare_X(data_val)\n",
    "        y_pred = w_0 + X_val.dot(w)\n",
    "        print(\"Validación: \", rmse(y_val, y_pred))\n",
    "\n",
    "## Feature engineering\n",
    "\n",
    "Para mejorar el desempeño de nuestro modelo, podemos añadir más características, creandolas y añadiéndolas a los atributos ya existentes. Este proceso se conoce como *feature engineering*.\n",
    "\n",
    "Nuestro objetivo es mejorar el valor del RMSE calculado para los datos de validación. Veamos cómo podemos añadir características. Pensemos por ejemplo en la característica `age`, que puede obtenerse a partir de la columna `year`. La edad del auto debería ser útil al momento de calcular su precio, ya que de forma intuitiva, mientras más reciente sea un auto, más caro será.\n",
    "\n",
    "Veamos cómo crearla."
   ]
  },
  {
   "cell_type": "code",
   "execution_count": 36,
   "metadata": {},
   "outputs": [
    {
     "data": {
      "text/plain": [
       "2017"
      ]
     },
     "execution_count": 36,
     "metadata": {},
     "output_type": "execute_result"
    }
   ],
   "source": [
    "data.year.max()"
   ]
  },
  {
   "cell_type": "markdown",
   "metadata": {},
   "source": [
    "Notamos que los registros más nuevos de los autos corresponden al año 2017, entonces podemos calcular la edad del auto al restar el año de manufactura del año 2017."
   ]
  },
  {
   "cell_type": "code",
   "execution_count": 37,
   "metadata": {},
   "outputs": [
    {
     "data": {
      "text/plain": [
       "3995     12\n",
       "7474      1\n",
       "7300      1\n",
       "3148      2\n",
       "747      26\n",
       "         ..\n",
       "10845    14\n",
       "4861      2\n",
       "2334     11\n",
       "8651     12\n",
       "5246      3\n",
       "Name: age, Length: 7150, dtype: int64"
      ]
     },
     "execution_count": 37,
     "metadata": {},
     "output_type": "execute_result"
    }
   ],
   "source": [
    "data_train['age'] = 2017 - data_train.year\n",
    "\n",
    "data_train['age']"
   ]
  },
  {
   "cell_type": "markdown",
   "metadata": {},
   "source": [
    "Añadimos la implementación de la nueva variable `age`a nuestra función de preparación de los datos."
   ]
  },
  {
   "cell_type": "code",
   "execution_count": 38,
   "metadata": {},
   "outputs": [],
   "source": [
    "def data_prepare_X(dataframe):\n",
    "\n",
    "    dataframe = dataframe.copy()\n",
    "\n",
    "    feats = features.copy()\n",
    "\n",
    "    dataframe['age'] = dataframe.year.max() - dataframe.year\n",
    "\n",
    "    feats.append('age')\n",
    "\n",
    "    df_num = dataframe[feats]\n",
    "    df_num = df_num.fillna(0)\n",
    "\n",
    "    X = df_num.values\n",
    "\n",
    "    return X"
   ]
  },
  {
   "cell_type": "markdown",
   "metadata": {},
   "source": [
    "Veamos si añadir la característica `age` nos lleva a alguna mejora del modelo:"
   ]
  },
  {
   "cell_type": "code",
   "execution_count": 39,
   "metadata": {},
   "outputs": [],
   "source": [
    "X_train = data_prepare_X(data_train)\n",
    "\n",
    "w_0, w = linear_regression(X_train, y_train)"
   ]
  },
  {
   "cell_type": "code",
   "execution_count": 40,
   "metadata": {},
   "outputs": [
    {
     "name": "stdout",
     "output_type": "stream",
     "text": [
      "Validación:  0.513\n"
     ]
    }
   ],
   "source": [
    "X_val = data_prepare_X(data_val)\n",
    "\n",
    "y_pred = w_0 + X_val.dot(w)\n",
    "\n",
    "print(\"Validación: \", np.round(rmse(y_val, y_pred),3))"
   ]
  },
  {
   "cell_type": "markdown",
   "metadata": {},
   "source": [
    "Podemos observar que el error de validación es de **0.51**, lo que representa una mejora considerable respecto al resultado anterior de **0.76**. Entonces, es claro que añadir la variable `age` es útil para hacer las predicciones. Veamos también la distribución de los valores predichos."
   ]
  },
  {
   "cell_type": "code",
   "execution_count": 41,
   "metadata": {},
   "outputs": [
    {
     "data": {
      "image/png": "[encoded data removed]",
      "text/plain": [
       "<Figure size 640x480 with 1 Axes>"
      ]
     },
     "metadata": {},
     "output_type": "display_data"
    }
   ],
   "source": [
    "sns.histplot(y_pred, label = 'Predicciones', color = 'red', edgecolor = 'white')\n",
    "sns.histplot(y_val, label = 'Objetivo', color = 'blue', edgecolor = 'white')\n",
    "plt.xlabel('log(precio + 1)')\n",
    "plt.ylabel('Frecuencia')\n",
    "plt.title('Predicciones vs distribución real')\n",
    "plt.legend()\n",
    "plt.show()"
   ]
  },
  {
   "cell_type": "markdown",
   "metadata": {},
   "source": [
    "Es claro que la distribución de las predicciones se aproxima aún mejor a la distribución de los objetivos. Esto también es confirmado por el valor del RMSE.\n",
    "\n",
    "## Variables categóricas\n",
    "\n",
    "Como tuvimos éxito al añadir la variable `age` podríamos echar un vistazo al resto de las variables para ver si también tienen influencia en la predicción. Una de las columnas que podríamos utilizar sería el número de puertas. Esta variable podría parecer numérica, ya que puede tomar los valores de 2, 3 o 4 puertas. Sin embargo, no es una variable numérica, ya que no podríamos decir que al añadir una puerta el precio incrementa o disminuye. Esta variable es una *variable categórica*, y este tipo de variables describen las características del objeto y pueden tomar ciertos valores. \n",
    "\n",
    "Por ejemplo, la marca del auto es una categoría, podría ser Toyota, BMW, Ford, etc. Las variables categóricas generalmente no son números sino strings. Para el caso de las puertas, podemos codificarlas en un conjunto de valores binarios. Primero veamos cuáles son todos los posibles valores que puede tomar la variable `number_of_doors`."
   ]
  },
  {
   "cell_type": "code",
   "execution_count": 42,
   "metadata": {},
   "outputs": [
    {
     "data": {
      "text/plain": [
       "array([ 4.,  2.,  3., nan])"
      ]
     },
     "execution_count": 42,
     "metadata": {},
     "output_type": "execute_result"
    }
   ],
   "source": [
    "data_train.number_of_doors.unique()"
   ]
  },
  {
   "cell_type": "markdown",
   "metadata": {},
   "source": [
    "Exceptuando el valor `nan`, tenemos tres posibles valores: `2, 3, 4`. Creamos entonces tres características binarias: `num_doors_2`, `num_doors_3` y `num_doors_4`. Si el auto resulta tener 2 puertas, `num_doors_2` tendrá el valor de 1, y el resto serán 0. Si el coche tiene 3 puertas, `num_doors_3` será igual a 1 y el resto serán 0, y lo mismo para la variable `num_doors_4`.\n",
    "\n",
    "Este método de codificación de variables se conoce como `one-hot encoding`. ¿Cómo se hace? Primero tenemos que determinar si la fila de nuestra columna es igual a uno de los posibles valores de la categoría. Para ello podemos recurrir al operador de comparación `==`. Aplicado sobre una serie, iterará sobre cada elemento de la columna, comparandolo sobre la lista de posibles valores y devolviendo un valor booleano de `True` si coinciden y `False` si no lo hacen.\n",
    "\n",
    "\n",
    "<center>\n",
    "    <figure>\n",
    "    <img src = \"img/one-hot.png\" alt=\"One-hot encoding de variables categóricas\" style=\"width:600px;height:450px;\">\n",
    "    <figcaption> One-hot encoding de variables categóricas. </figcaption>\n",
    "    </figure>\n",
    "</center>\n",
    "\n",
    "Esta operación genera distintas series para los valores de $i = 2,3,4$. Posteriormente, para incluirlos en los datos de entrenamiento y validación, es necesario convertir esos valores booleanos a enteros para que Python pueda realizar las operaciones matriciales. Esto se logra fácilmente con la función `astype(int)`.\n",
    "\n",
    "<center>\n",
    "    <figure>\n",
    "    <img src = \"img/astype.png\"  style=\"width:800px;height:350px;\">\n",
    "    <figcaption> Conversión de valores booleanos a enteros. </figcaption>\n",
    "    </figure>\n",
    "</center>\n",
    "\n",
    "Esta codificación puede aplicarse a otras variables categóricas, no necesariamente numéricas. Consideremos, por ejemplo, la característica `make`.  Veamos qué posibles valores tenemos:"
   ]
  },
  {
   "cell_type": "code",
   "execution_count": 43,
   "metadata": {},
   "outputs": [
    {
     "data": {
      "text/plain": [
       "array(['bmw', 'audi', 'fiat', 'mercedes-benz', 'chrysler', 'nissan',\n",
       "       'volvo', 'mazda', 'mitsubishi', 'ferrari', 'alfa_romeo', 'toyota',\n",
       "       'mclaren', 'maybach', 'pontiac', 'porsche', 'saab', 'gmc',\n",
       "       'hyundai', 'plymouth', 'honda', 'oldsmobile', 'suzuki', 'ford',\n",
       "       'cadillac', 'kia', 'bentley', 'chevrolet', 'dodge', 'lamborghini',\n",
       "       'lincoln', 'subaru', 'volkswagen', 'spyker', 'buick', 'acura',\n",
       "       'rolls-royce', 'maserati', 'lexus', 'aston_martin', 'land_rover',\n",
       "       'lotus', 'infiniti', 'scion', 'genesis', 'hummer', 'tesla',\n",
       "       'bugatti'], dtype=object)"
      ]
     },
     "execution_count": 43,
     "metadata": {},
     "output_type": "execute_result"
    }
   ],
   "source": [
    "data.make.unique()"
   ]
  },
  {
   "cell_type": "markdown",
   "metadata": {},
   "source": [
    "Tenemos una buena cantidad de marcas de automóviles, pero por simplicidad, tomaremos las 10 marcas con mayor frecuencia en nuestros datos."
   ]
  },
  {
   "cell_type": "code",
   "execution_count": 44,
   "metadata": {},
   "outputs": [
    {
     "data": {
      "text/plain": [
       "make\n",
       "chevrolet     1123\n",
       "ford           881\n",
       "volkswagen     809\n",
       "toyota         746\n",
       "dodge          626\n",
       "nissan         558\n",
       "gmc            515\n",
       "honda          449\n",
       "mazda          423\n",
       "cadillac       397\n",
       "Name: count, dtype: int64"
      ]
     },
     "execution_count": 44,
     "metadata": {},
     "output_type": "execute_result"
    }
   ],
   "source": [
    "data['make'].value_counts().head(10)"
   ]
  },
  {
   "cell_type": "markdown",
   "metadata": {},
   "source": [
    "La idea es generar una codificación *one-hot* para las marcas igual que para el número de puertas. Añadimos estos pasos a nuestra función de preparación de los datos, `data_prepare_X`."
   ]
  },
  {
   "cell_type": "code",
   "execution_count": 45,
   "metadata": {},
   "outputs": [],
   "source": [
    "def data_prepare_X(dataframe):\n",
    "\n",
    "    dataframe = dataframe.copy()\n",
    "\n",
    "    feats = features.copy()\n",
    "\n",
    "    dataframe['age'] = dataframe.year.max() - dataframe.year\n",
    "\n",
    "    feats.append('age')\n",
    "\n",
    "    # One-hot encoding para el número de puertas\n",
    "\n",
    "    for i in [2,3,4]: # Lista de posibles valores del número de puertas\n",
    "\n",
    "        feature = 'num_doors_%s' % i # Durante cada iteración, se crea una string para el número de puertas, el operador % inserta el valor de i de la lista\n",
    "        \n",
    "        dataframe[feature] = (dataframe['number_of_doors'] == i).astype(int) # Se crea la columna de num_doors_i y se convierten a enteros\n",
    "\n",
    "        feats.append(feature) # Se añaden las características al dataframe\n",
    "\n",
    "    # One-hot encoding para los fabricantes de autos\n",
    "\n",
    "    top_makers = dataframe['make'].value_counts().head(10).index.tolist() # Primero, creamos la lista con los 10 fabricantes más populares en la base de datos\n",
    "\n",
    "    for k in top_makers:\n",
    "\n",
    "        feature = 'is_make_%s' % k\n",
    "        \n",
    "        dataframe[feature] = (dataframe['make'] == k).astype(int)\n",
    "\n",
    "        feats.append(feature)\n",
    "\n",
    "\n",
    "    df_num = dataframe[feats]\n",
    "    df_num = df_num.fillna(0)\n",
    "\n",
    "    X = df_num.values\n",
    "\n",
    "    return X"
   ]
  },
  {
   "cell_type": "markdown",
   "metadata": {},
   "source": [
    "Veamos si estos cambios mejoran el RMSE del modelo."
   ]
  },
  {
   "cell_type": "code",
   "execution_count": 46,
   "metadata": {},
   "outputs": [
    {
     "name": "stdout",
     "output_type": "stream",
     "text": [
      "Validación:  0.493\n"
     ]
    }
   ],
   "source": [
    "X_train = data_prepare_X(data_train)\n",
    "\n",
    "w_0, w = linear_regression(X_train, y_train)\n",
    "\n",
    "X_val = data_prepare_X(data_val)\n",
    "\n",
    "y_pred = w_0 + X_val.dot(w)\n",
    "\n",
    "print('Validación: ', np.round(rmse(y_val, y_pred), 3))"
   ]
  },
  {
   "cell_type": "markdown",
   "metadata": {},
   "source": [
    "El valor del RMSE tras codificar la variable `make` y añadirla al modelo de regresión lineal, nos dice que mejora de **0.51** a **0.49**. Lo que nos indica que podríamos ir añadiendo más variables para mejorar los resultados. ¿Será cierto? Hagámoslo, y añadiremos `engine_fuel_type`, `transmission_type`, `driven_wheels`, `market_category`, `vehicle_size` y `vehicle_style`.\n",
    "\n",
    "Primero es necesario explorar cada una de las categorías. La idea es mantener un modelo no tan complejo."
   ]
  },
  {
   "cell_type": "code",
   "execution_count": 47,
   "metadata": {},
   "outputs": [
    {
     "data": {
      "text/plain": [
       "['regular_unleaded',\n",
       " 'premium_unleaded_(recommended)',\n",
       " 'premium_unleaded_(required)',\n",
       " 'flex-fuel_(unleaded/e85)',\n",
       " 'diesel',\n",
       " 'electric',\n",
       " 'flex-fuel_(premium_unleaded_required/e85)',\n",
       " 'flex-fuel_(premium_unleaded_recommended/e85)',\n",
       " 'flex-fuel_(unleaded/natural_gas)',\n",
       " nan]"
      ]
     },
     "execution_count": 47,
     "metadata": {},
     "output_type": "execute_result"
    }
   ],
   "source": [
    "engine = data_train['engine_fuel_type'].unique().tolist()\n",
    "\n",
    "engine"
   ]
  },
  {
   "cell_type": "markdown",
   "metadata": {},
   "source": [
    "Tenemos varias categorías para el tipo de combustible, así que como en el caso de las marcas, nos quedaremos con las 5 más frecuentes."
   ]
  },
  {
   "cell_type": "code",
   "execution_count": 48,
   "metadata": {},
   "outputs": [
    {
     "data": {
      "text/plain": [
       "['regular_unleaded',\n",
       " 'premium_unleaded_(required)',\n",
       " 'premium_unleaded_(recommended)',\n",
       " 'flex-fuel_(unleaded/e85)',\n",
       " 'diesel']"
      ]
     },
     "execution_count": 48,
     "metadata": {},
     "output_type": "execute_result"
    }
   ],
   "source": [
    "engine = data_train['engine_fuel_type'].value_counts().head(5).index.tolist()\n",
    "\n",
    "engine"
   ]
  },
  {
   "cell_type": "code",
   "execution_count": 49,
   "metadata": {},
   "outputs": [
    {
     "data": {
      "text/plain": [
       "['automatic', 'manual', 'automated_manual', 'direct_drive', 'unknown']"
      ]
     },
     "execution_count": 49,
     "metadata": {},
     "output_type": "execute_result"
    }
   ],
   "source": [
    "transmission = data_train['transmission_type'].unique().tolist()\n",
    "\n",
    "transmission"
   ]
  },
  {
   "cell_type": "markdown",
   "metadata": {},
   "source": [
    "Para el caso del tipo de transmisión, la categoría `unkown` no es útil, por lo que no la consideraremos."
   ]
  },
  {
   "cell_type": "code",
   "execution_count": 50,
   "metadata": {},
   "outputs": [
    {
     "data": {
      "text/plain": [
       "['automatic', 'manual', 'automated_manual', 'direct_drive']"
      ]
     },
     "execution_count": 50,
     "metadata": {},
     "output_type": "execute_result"
    }
   ],
   "source": [
    "transmission = [t for t in data_train['transmission_type'].unique().tolist() if t != 'unknown']\n",
    "\n",
    "transmission"
   ]
  },
  {
   "cell_type": "code",
   "execution_count": 51,
   "metadata": {},
   "outputs": [
    {
     "data": {
      "text/plain": [
       "['rear_wheel_drive',\n",
       " 'front_wheel_drive',\n",
       " 'all_wheel_drive',\n",
       " 'four_wheel_drive']"
      ]
     },
     "execution_count": 51,
     "metadata": {},
     "output_type": "execute_result"
    }
   ],
   "source": [
    "traction = data_train['driven_wheels'].unique().tolist()\n",
    "\n",
    "traction"
   ]
  },
  {
   "cell_type": "code",
   "execution_count": 52,
   "metadata": {},
   "outputs": [
    {
     "data": {
      "text/plain": [
       "[nan,\n",
       " 'luxury,performance',\n",
       " 'crossover',\n",
       " 'hatchback',\n",
       " 'factory_tuner,performance',\n",
       " 'performance',\n",
       " 'hatchback,factory_tuner,luxury,performance',\n",
       " 'flex_fuel',\n",
       " 'exotic,luxury,high-performance',\n",
       " 'factory_tuner,high-performance',\n",
       " 'luxury',\n",
       " 'hatchback,performance',\n",
       " 'crossover,luxury',\n",
       " 'hatchback,hybrid',\n",
       " 'crossover,luxury,diesel',\n",
       " 'exotic,luxury,performance',\n",
       " 'crossover,hatchback',\n",
       " 'flex_fuel,performance',\n",
       " 'flex_fuel,hybrid',\n",
       " 'hybrid',\n",
       " 'luxury,high-performance',\n",
       " 'diesel',\n",
       " 'crossover,flex_fuel',\n",
       " 'flex_fuel,luxury,high-performance',\n",
       " 'high-performance',\n",
       " 'crossover,factory_tuner,luxury,high-performance',\n",
       " 'flex_fuel,luxury',\n",
       " 'exotic,high-performance',\n",
       " 'luxury,hybrid',\n",
       " 'hatchback,luxury',\n",
       " 'crossover,luxury,hybrid',\n",
       " 'factory_tuner,luxury,high-performance',\n",
       " 'exotic,factory_tuner,luxury,high-performance',\n",
       " 'exotic,factory_tuner,high-performance',\n",
       " 'crossover,factory_tuner,luxury,performance',\n",
       " 'hatchback,luxury,performance',\n",
       " 'factory_tuner,luxury,performance',\n",
       " 'crossover,luxury,performance',\n",
       " 'flex_fuel,diesel',\n",
       " 'flex_fuel,luxury,performance',\n",
       " 'diesel,luxury',\n",
       " 'crossover,performance',\n",
       " 'crossover,luxury,high-performance',\n",
       " 'hatchback,flex_fuel',\n",
       " 'luxury,high-performance,hybrid',\n",
       " 'crossover,hybrid',\n",
       " 'exotic,flex_fuel,luxury,high-performance',\n",
       " 'exotic,luxury',\n",
       " 'crossover,hatchback,luxury',\n",
       " 'hatchback,factory_tuner,performance',\n",
       " 'hatchback,factory_tuner,high-performance',\n",
       " 'flex_fuel,factory_tuner,luxury,high-performance',\n",
       " 'crossover,flex_fuel,luxury,performance',\n",
       " 'crossover,flex_fuel,luxury',\n",
       " 'crossover,factory_tuner,performance',\n",
       " 'factory_tuner,luxury',\n",
       " 'crossover,flex_fuel,performance',\n",
       " 'hatchback,diesel',\n",
       " 'luxury,performance,hybrid',\n",
       " 'crossover,diesel',\n",
       " 'crossover,hatchback,performance',\n",
       " 'exotic,performance',\n",
       " 'exotic,flex_fuel,factory_tuner,luxury,high-performance',\n",
       " 'exotic,factory_tuner,luxury,performance',\n",
       " 'performance,hybrid',\n",
       " 'crossover,exotic,luxury,performance',\n",
       " 'flex_fuel,performance,hybrid',\n",
       " 'crossover,luxury,performance,hybrid',\n",
       " 'crossover,hatchback,factory_tuner,performance',\n",
       " 'crossover,exotic,luxury,high-performance']"
      ]
     },
     "execution_count": 52,
     "metadata": {},
     "output_type": "execute_result"
    }
   ],
   "source": [
    "market = data_train['market_category'].unique().tolist()\n",
    "\n",
    "market"
   ]
  },
  {
   "cell_type": "markdown",
   "metadata": {},
   "source": [
    "También tenemos una gran cantidad de valores para el mercado del auto, nos quedamos con las 5 más frecuentes."
   ]
  },
  {
   "cell_type": "code",
   "execution_count": 53,
   "metadata": {},
   "outputs": [
    {
     "data": {
      "text/plain": [
       "['crossover', 'flex_fuel', 'luxury', 'luxury,performance', 'hatchback']"
      ]
     },
     "execution_count": 53,
     "metadata": {},
     "output_type": "execute_result"
    }
   ],
   "source": [
    "market = data_train['market_category'].value_counts().head(5).index.tolist()\n",
    "\n",
    "market"
   ]
  },
  {
   "cell_type": "code",
   "execution_count": 54,
   "metadata": {},
   "outputs": [
    {
     "data": {
      "text/plain": [
       "['large', 'midsize', 'compact']"
      ]
     },
     "execution_count": 54,
     "metadata": {},
     "output_type": "execute_result"
    }
   ],
   "source": [
    "size = data_train['vehicle_size'].unique().tolist()\n",
    "\n",
    "size"
   ]
  },
  {
   "cell_type": "markdown",
   "metadata": {},
   "source": [
    "Las categorías del tamaño del vehículo no representan problema alguno, así que tomaremos todas."
   ]
  },
  {
   "cell_type": "code",
   "execution_count": 55,
   "metadata": {},
   "outputs": [
    {
     "data": {
      "text/plain": [
       "['4dr_suv',\n",
       " 'sedan',\n",
       " 'passenger_minivan',\n",
       " 'extended_cab_pickup',\n",
       " 'wagon',\n",
       " 'coupe',\n",
       " '2dr_hatchback',\n",
       " 'regular_cab_pickup',\n",
       " '4dr_hatchback',\n",
       " 'crew_cab_pickup',\n",
       " 'cargo_van',\n",
       " 'passenger_van',\n",
       " '2dr_suv',\n",
       " 'convertible',\n",
       " 'cargo_minivan',\n",
       " 'convertible_suv']"
      ]
     },
     "execution_count": 55,
     "metadata": {},
     "output_type": "execute_result"
    }
   ],
   "source": [
    "style = data_train['vehicle_style'].unique().tolist()\n",
    "\n",
    "style"
   ]
  },
  {
   "cell_type": "code",
   "execution_count": 56,
   "metadata": {},
   "outputs": [
    {
     "data": {
      "text/plain": [
       "['sedan', '4dr_suv', 'coupe', 'convertible', '4dr_hatchback']"
      ]
     },
     "execution_count": 56,
     "metadata": {},
     "output_type": "execute_result"
    }
   ],
   "source": [
    "style = data_train['vehicle_style'].value_counts().head(5).index.tolist()\n",
    "\n",
    "style "
   ]
  },
  {
   "cell_type": "markdown",
   "metadata": {},
   "source": [
    "Finalmente, para el estilo, tomaremos las primeras 5 más frecuentes.\n",
    "\n",
    "Añadimos estas categorías y las codificamos."
   ]
  },
  {
   "cell_type": "code",
   "execution_count": 57,
   "metadata": {},
   "outputs": [],
   "source": [
    "def data_prepare_X(dataframe):\n",
    "\n",
    "    dataframe = dataframe.copy()\n",
    "\n",
    "    feats = features.copy()\n",
    "\n",
    "    dataframe['age'] = dataframe.year.max() - dataframe.year\n",
    "\n",
    "    feats.append('age')\n",
    "\n",
    "    # One-hot encoding para el número de puertas\n",
    "\n",
    "    for i in [2,3,4]: # Lista de posibles valores del número de puertas\n",
    "\n",
    "        feature = 'num_doors_%s' % i # Durante cada iteración, se crea una string para el número de puertas, el operador % inserta el valor de i de la lista\n",
    "        \n",
    "        dataframe[feature] = (dataframe['number_of_doors'] == i).astype(int) # Se crea la columna de num_doors_i y se convierten a enteros\n",
    "\n",
    "        feats.append(feature) # Se añaden las características al dataframe\n",
    "\n",
    "    # One-hot encoding para los fabricantes de autos\n",
    "\n",
    "    top_makers = dataframe['make'].value_counts().head(10).index.tolist() # Primero, creamos la lista con los 10 fabricantes más populares en la base de datos\n",
    "\n",
    "    for k in top_makers:\n",
    "\n",
    "        feature = 'is_make_%s' % k\n",
    "        \n",
    "        dataframe[feature] = (dataframe['make'] == k).astype(int)\n",
    "\n",
    "        feats.append(feature)\n",
    "\n",
    "    # One-hot encoding para tipo de combustible\n",
    "\n",
    "    for v in engine:\n",
    "\n",
    "        feature = 'is_type_%s' %v\n",
    "\n",
    "        dataframe[feature] = (dataframe['engine_fuel_type'] == v).astype(int)\n",
    "\n",
    "        feats.append(feature)\n",
    "\n",
    "    # One-hot encoding para tipo de transmisión\n",
    "\n",
    "    for v in transmission:\n",
    "\n",
    "        feature = 'is_transmission_%s' %v\n",
    "\n",
    "        dataframe[feature] = (dataframe['transmission_type'] == v).astype(int)\n",
    "\n",
    "        feats.append(feature)\n",
    "\n",
    "    # One-hot encoding para tipo de tracción\n",
    "\n",
    "    for v in traction:\n",
    "\n",
    "        feature = 'is_driven_wheels_%s' %v\n",
    "\n",
    "        dataframe[feature] = (dataframe['driven_wheels'] == v).astype(int)\n",
    "\n",
    "        feats.append(feature)\n",
    "\n",
    "    # One-hot encoding para categoría de mercado\n",
    "\n",
    "    for v in market:\n",
    "\n",
    "        feature = 'is_mc_%s' %v\n",
    "\n",
    "        dataframe[feature] = (dataframe['market_category'] == v).astype(int)\n",
    "\n",
    "        feats.append(feature)\n",
    "\n",
    "    # One-hot encoding para tamaño de vehículo\n",
    "\n",
    "    for v in size:\n",
    "\n",
    "        feature = 'is_size_%s' %v\n",
    "\n",
    "        dataframe[feature] = (dataframe['vehicle_size'] == v).astype(int)\n",
    "\n",
    "        feats.append(feature)\n",
    "\n",
    "    # One-hot encoding para estilo de vehículo\n",
    "\n",
    "    for v in style:\n",
    "\n",
    "        feature = 'is_style_%s' %v \n",
    "\n",
    "        dataframe[feature] = (dataframe['vehicle_style'] == v).astype(int)\n",
    "\n",
    "        feats.append(feature)\n",
    "\n",
    "    df_num = dataframe[feats]\n",
    "    df_num = df_num.fillna(0)\n",
    "\n",
    "    X = df_num.values\n",
    "\n",
    "    return X"
   ]
  },
  {
   "cell_type": "markdown",
   "metadata": {},
   "source": [
    "Probemos el modelo."
   ]
  },
  {
   "cell_type": "code",
   "execution_count": 58,
   "metadata": {},
   "outputs": [
    {
     "name": "stdout",
     "output_type": "stream",
     "text": [
      "Validación:  218.139\n"
     ]
    }
   ],
   "source": [
    "X_train = data_prepare_X(data_train)\n",
    "\n",
    "w_0, w = linear_regression(X_train, y_train)\n",
    "\n",
    "X_val= data_prepare_X(data_val)\n",
    "\n",
    "y_pred = w_0 + X_val.dot(w)\n",
    "\n",
    "print('Validación: ', np.round(rmse(y_val, y_pred), 3))"
   ]
  },
  {
   "cell_type": "markdown",
   "metadata": {},
   "source": [
    "¡Vaya! El valor de la validación es de **73.75**. En vez de ayudarnos, las características añadidas empeoraron el puntaje del RMSE. Sin embargo, no todo está perdido, veamos qué podemos hacer ante esta situación.\n",
    "\n",
    "## Regularización\n",
    "\n",
    "¿Por qué el añadir más características empeoró el desempeño de nuestro modelo? Bueno, la razón tiene que ver con la inestabilidad numérica del método de resolución. Recordemos la ecuación:\n",
    "\n",
    "$$ w = \\left(X^T X \\right)^{-1} X^T y $$\n",
    "\n",
    "El primer factor es la inversa de la matriz $X^T X$, en este caso el problema reside en la inversión de esa matriz. En ocasiones, al añadir nuevas columnas a $X$ podemos, accidentalmente, incluir una columna que resulta ser una combinación de otras columnas. \n",
    "\n",
    "Cuando esto ocurre, $X^T X$ se vuelve *indeterminada*, o *singular*, lo que implica que no es posible encontrar la inversa de esa matriz. Otro de los motivos es que generalmente las columnas no son una combinación lineal exacta de las otras columnas. Los datos reales a menudo son ruidosos, con errores de medición. Es por estas razones que algunos de los valores en los pesos $w$ se vuelven mucho más grandes de lo que deberían. \n",
    "\n",
    "Veamos qué valores tenemos."
   ]
  },
  {
   "cell_type": "code",
   "execution_count": 59,
   "metadata": {},
   "outputs": [
    {
     "name": "stdout",
     "output_type": "stream",
     "text": [
      "El valor de w0 es: 1.4131331354293618e+16\n",
      "El valor máximo del vector w es de: 6855.632535344352\n",
      "El valor mínimo del vector w es de: -1.4131331354301116e+16\n"
     ]
    }
   ],
   "source": [
    "print(f'El valor de w0 es: {w_0}')\n",
    "print(f'El valor máximo del vector w es de: {max(w)}')\n",
    "print(f'El valor mínimo del vector w es de: {min(w)}')"
   ]
  },
  {
   "cell_type": "markdown",
   "metadata": {},
   "source": [
    "En álgebra lineal, estos problemas se conocen como *problemas de inestabilidad numérica*, y generalmente se pueden remendar utilizando técnicas de regularización. El objetivo de la *regularización* es el asegurarse de que la matriz inversa exista, al forzar que la matriz sea invertible. En el contexto del machine learning, significa controlar los valores de los pesos del modelo para que se comporten correctamente y no alcancen valores extremos.\n",
    "\n",
    "Una forma de aplicar regularización es añadir un pequeño número a cada elemento diagonal de la matriz. La fórmula para regresión lineal es entonces:\n",
    "\n",
    "$$ w = \\left( X^T X + \\alpha I \\right)^{-1} X^T y $$"
   ]
  },
  {
   "cell_type": "markdown",
   "metadata": {},
   "source": [
    "Podemos traducir esta expresión a Python utilizando NumPy. Supongamos que tenemos una matriz $X^T X$, podemos crear una matriz identidad y sumarla para ver el efecto que genera sobre la diagonal principal."
   ]
  },
  {
   "cell_type": "code",
   "execution_count": 60,
   "metadata": {},
   "outputs": [
    {
     "name": "stdout",
     "output_type": "stream",
     "text": [
      "[[0 1 2 3]\n",
      " [3 4 5 0]\n",
      " [0 2 2 1]\n",
      " [1 6 2 3]]\n"
     ]
    }
   ],
   "source": [
    "XTX = np.array([\n",
    "    [0, 1, 2, 3],\n",
    "    [3, 4, 5, 0],\n",
    "    [0, 2, 2, 1],\n",
    "    [1, 6, 2, 3]\n",
    "])\n",
    "\n",
    "print(XTX)"
   ]
  },
  {
   "cell_type": "code",
   "execution_count": 61,
   "metadata": {},
   "outputs": [
    {
     "name": "stdout",
     "output_type": "stream",
     "text": [
      "[[1. 0. 0. 0.]\n",
      " [0. 1. 0. 0.]\n",
      " [0. 0. 1. 0.]\n",
      " [0. 0. 0. 1.]]\n"
     ]
    }
   ],
   "source": [
    "I = np.eye(4)\n",
    "\n",
    "print(I)"
   ]
  },
  {
   "cell_type": "code",
   "execution_count": 62,
   "metadata": {},
   "outputs": [
    {
     "data": {
      "text/plain": [
       "array([[0.01, 0.  , 0.  , 0.  ],\n",
       "       [0.  , 0.01, 0.  , 0.  ],\n",
       "       [0.  , 0.  , 0.01, 0.  ],\n",
       "       [0.  , 0.  , 0.  , 0.01]])"
      ]
     },
     "execution_count": 62,
     "metadata": {},
     "output_type": "execute_result"
    }
   ],
   "source": [
    "alpha = 0.01\n",
    "\n",
    "alpha * I"
   ]
  },
  {
   "cell_type": "code",
   "execution_count": 63,
   "metadata": {},
   "outputs": [
    {
     "data": {
      "text/plain": [
       "array([[0.01, 1.  , 2.  , 3.  ],\n",
       "       [3.  , 4.01, 5.  , 0.  ],\n",
       "       [0.  , 2.  , 2.01, 1.  ],\n",
       "       [1.  , 6.  , 2.  , 3.01]])"
      ]
     },
     "execution_count": 63,
     "metadata": {},
     "output_type": "execute_result"
    }
   ],
   "source": [
    "XTX + alpha * I "
   ]
  },
  {
   "cell_type": "markdown",
   "metadata": {},
   "source": [
    "Entonces, es conveniente re definir nuestra función que ejecuta el algoritmo de regresión lineal para incluir esta idea."
   ]
  },
  {
   "cell_type": "code",
   "execution_count": 64,
   "metadata": {},
   "outputs": [],
   "source": [
    "def linear_regression(X, y, r = 0.0):\n",
    "\n",
    "    ones = np.ones(X.shape[0])\n",
    "\n",
    "    X = np.column_stack([ones, X])\n",
    "\n",
    "    XTX = X.T.dot(X)\n",
    "\n",
    "    reg = r * np.eye(XTX.shape[0])\n",
    "\n",
    "    XTX = XTX + reg\n",
    "\n",
    "    XTX_inv = np.linalg.inv(XTX)\n",
    "\n",
    "    w = XTX_inv.dot(X.T).dot(y)\n",
    "\n",
    "    return w[0], w[1:] "
   ]
  },
  {
   "cell_type": "markdown",
   "metadata": {},
   "source": [
    "Veamos cómo se comporta para ciertos valores de `r`."
   ]
  },
  {
   "cell_type": "code",
   "execution_count": 65,
   "metadata": {},
   "outputs": [
    {
     "name": "stdout",
     "output_type": "stream",
     "text": [
      "Para r = 0.0, se tienen: w_0 = 1.413133135429362e+16, w_13 = 5.88, w_21 = 82.15\n",
      "Para r = 0.001, se tienen: w_0 = 6.65, w_13 = -0.14, w_21 = -0.28\n",
      "Para r = 0.01, se tienen: w_0 = 6.64, w_13 = -0.14, w_21 = -0.28\n",
      "Para r = 0.1, se tienen: w_0 = 6.49, w_13 = -0.14, w_21 = -0.27\n",
      "Para r = 1, se tienen: w_0 = 5.71, w_13 = -0.14, w_21 = -0.21\n",
      "Para r = 10, se tienen: w_0 = 4.31, w_13 = -0.12, w_21 = 0.16\n"
     ]
    }
   ],
   "source": [
    "for r in [0., 0.001, 0.01, 0.1, 1, 10]:\n",
    "\n",
    "    w_0, w = linear_regression(X_train, y_train, r = r)\n",
    "\n",
    "    print(f\"Para r = {r}, se tienen: w_0 = {np.round(w_0,2)}, w_13 = {np.round(w[13],2)}, w_21 = {np.round(w[21],2)}\")"
   ]
  },
  {
   "cell_type": "markdown",
   "metadata": {},
   "source": [
    "Observemos que cuando el término de regularización es 0, obtenemos valores extremos para los pesos. Sin embargo, conforme vamos aumentando el valor de `r`, los pesos van disminuyendo. \n",
    "\n",
    "Supongamos que tomamos a `r = 0.001`, veamos cuál es el RMSE en este caso."
   ]
  },
  {
   "cell_type": "code",
   "execution_count": 66,
   "metadata": {},
   "outputs": [
    {
     "name": "stdout",
     "output_type": "stream",
     "text": [
      "Validación con regularización:  0.457\n"
     ]
    }
   ],
   "source": [
    "X_train = data_prepare_X(data_train)\n",
    "\n",
    "w_0, w = linear_regression(X_train, y_train, r = 0.001)\n",
    "\n",
    "X_val = data_prepare_X(data_val)\n",
    "\n",
    "y_pred = w_0 + X_val.dot(w)\n",
    "\n",
    "print(\"Validación con regularización: \", np.round(rmse(y_val, y_pred),3))"
   ]
  },
  {
   "cell_type": "markdown",
   "metadata": {},
   "source": [
    "Notemos que ahora tenemos un modelo que incluye más características y que además está regularizado. Nos arroja un valor del RMSE de **0.45**, el cual es una mejora del modelo anterior con **0.49**.\n",
    "\n",
    "Recordemos que utilizamos `r = 0.001`, pero ¿qué tal si existe otro valor de `r` que mejora aún más nuestro modelo? Hagamos más pruebas con distintos valores para tratar de encontrarlo."
   ]
  },
  {
   "cell_type": "code",
   "execution_count": 67,
   "metadata": {},
   "outputs": [
    {
     "name": "stdout",
     "output_type": "stream",
     "text": [
      "Para r = 1e-05, el valor del RMSE es de: 0.456653\n",
      "Para r = 0.0001, el valor del RMSE es de: 0.456653\n",
      "Para r = 0.001, el valor del RMSE es de: 0.456652\n",
      "Para r = 0.01, el valor del RMSE es de: 0.456646\n",
      "Para r = 0.1, el valor del RMSE es de: 0.456631\n",
      "Para r = 1, el valor del RMSE es de: 0.457577\n",
      "Para r = 5, el valor del RMSE es de: 0.462155\n",
      "Para r = 10, el valor del RMSE es de: 0.468544\n",
      "Para r = 20, el valor del RMSE es de: 0.481303\n"
     ]
    }
   ],
   "source": [
    "for r in [0.00001, 0.0001, 0.001, 0.01, 0.1, 1, 5, 10, 20]:\n",
    "\n",
    "    w_0, w = linear_regression(X_train, y_train, r = r)\n",
    "\n",
    "    y_pred = w_0 + X_val.dot(w)\n",
    "\n",
    "    print(f\"Para r = {r}, el valor del RMSE es de: {np.round(rmse(y_val, y_pred), 6)}\")"
   ]
  },
  {
   "cell_type": "markdown",
   "metadata": {},
   "source": [
    "Es claro que para valores de r < 0.1, no se muestran cambios significativos en el RMSE, y que el valor de regularización que mejor resultado obtuvo es el de `r = 0.01`. \n",
    "\n",
    "Usémoslo para el modelo final, y comparemos con el conjunto de datos de prueba para verificar si el modelo funciona."
   ]
  },
  {
   "cell_type": "code",
   "execution_count": 68,
   "metadata": {},
   "outputs": [
    {
     "name": "stdout",
     "output_type": "stream",
     "text": [
      "Validación del modelo final:  0.457\n",
      "Score con el data test:  0.452\n"
     ]
    }
   ],
   "source": [
    "X_train= data_prepare_X(data_train)\n",
    "\n",
    "w_0, w = linear_regression(X_train, y_train, r = 0.01)\n",
    "\n",
    "X_val = data_prepare_X(data_val)\n",
    "\n",
    "y_pred = w_0 + X_val.dot(w)\n",
    "\n",
    "print(\"Validación del modelo final: \", np.round(rmse(y_val, y_pred), 3))\n",
    "\n",
    "X_test = data_prepare_X(data_test)\n",
    "\n",
    "y_pred = w_0 + X_test.dot(w)\n",
    "\n",
    "print(\"Score con el data test: \", np.round(rmse(y_test, y_pred),3))"
   ]
  },
  {
   "cell_type": "markdown",
   "metadata": {},
   "source": [
    "Estos números son muy cercanos, por lo que se puede concluir que el modelo puede generalizar bien con datos no antes vistos.\n",
    "\n",
    "## Resultados\n",
    "\n",
    "Veamos cómo se comporta nuestro modelo. Tomemos unos cuantos valores del conjunto de prueba."
   ]
  },
  {
   "cell_type": "code",
   "execution_count": 85,
   "metadata": {},
   "outputs": [],
   "source": [
    "test_1 = data_test.iloc[30:50]"
   ]
  },
  {
   "cell_type": "markdown",
   "metadata": {},
   "source": [
    "Aplicamos la función de transformación de datos para ingresarlos al modelo y generamos las predicciones."
   ]
  },
  {
   "cell_type": "code",
   "execution_count": 86,
   "metadata": {},
   "outputs": [],
   "source": [
    "X_test_1 = data_prepare_X(test_1)\n",
    "\n",
    "y_pred_test_1 = w_0 + X_test_1.dot(w)\n"
   ]
  },
  {
   "cell_type": "markdown",
   "metadata": {},
   "source": [
    "Grafiquemos los resultados obtenidos."
   ]
  },
  {
   "cell_type": "code",
   "execution_count": 91,
   "metadata": {},
   "outputs": [
    {
     "data": {
      "image/png": "[encoded data removed]",
      "text/plain": [
       "<Figure size 800x600 with 1 Axes>"
      ]
     },
     "metadata": {},
     "output_type": "display_data"
    }
   ],
   "source": [
    "fig, ax = plt.subplots(1, 1, figsize = (8,6), dpi = 100)\n",
    "ax.scatter(y_val[30:50], y_pred_test_1, alpha = 0.8)\n",
    "max_price = max(y_val.max(), y_pred_test_1.max())\n",
    "ax.plot([0, max_price], [0, max_price], 'k--', lw = 1.5)\n",
    "ax.set_xlabel('log(Precios reales + 1)', fontsize = 15)\n",
    "ax.set_ylabel('log(Precios sugeridos +1)', fontsize = 15)\n",
    "ax.set_title('Comparativa de precios reales vs. sugerencias del modelo')\n",
    "plt.show()"
   ]
  },
  {
   "cell_type": "markdown",
   "metadata": {},
   "source": [
    "Recordemos que hicimos una transformación logarítmica a los datos de los precios, así que para obtener los precios aplicamos la función exponencial."
   ]
  },
  {
   "cell_type": "code",
   "execution_count": 87,
   "metadata": {},
   "outputs": [],
   "source": [
    "real_prices = np.expm1(y_val[30:50])\n",
    "\n",
    "suggested_prices = np.expm1(y_pred_test_1)\n"
   ]
  },
  {
   "cell_type": "markdown",
   "metadata": {},
   "source": [
    "Generamos una gráfica de dispersión de los precios reales vs los precios sugeridos. La línea discontinua representa los puntos donde el precio sugerido es igual al precio real. Si un punto cae sobre esta línea significa que la predicción fue correcta. Cuando más cercaestén los puntos de esta línea, mas precisas son las predicciones."
   ]
  },
  {
   "cell_type": "code",
   "execution_count": 92,
   "metadata": {},
   "outputs": [
    {
     "data": {
      "image/png": "[encoded data removed]",
      "text/plain": [
       "<Figure size 800x600 with 1 Axes>"
      ]
     },
     "metadata": {},
     "output_type": "display_data"
    }
   ],
   "source": [
    "fig, ax = plt.subplots(1, 1, figsize = (8,6), dpi = 100)\n",
    "ax.scatter(real_prices, suggested_prices, alpha = 0.8)\n",
    "max_price = max(real_prices.max(), suggested_prices.max())\n",
    "ax.plot([0, max_price], [0, max_price], 'k--', lw = 1.5)\n",
    "ax.set_xlabel('Precios reales', fontsize = 15)\n",
    "ax.set_ylabel('Precios sugeridos', fontsize = 15)\n",
    "ax.set_title('Comparativa de precios reales vs. sugerencias del modelo')\n",
    "\n",
    "plt.show()"
   ]
  },
  {
   "cell_type": "markdown",
   "metadata": {},
   "source": [
    "Poniéndolo en ejemplos concretos:"
   ]
  },
  {
   "cell_type": "code",
   "execution_count": 100,
   "metadata": {},
   "outputs": [
    {
     "name": "stdout",
     "output_type": "stream",
     "text": [
      "El precio real del auto gmc canyon modelo 2015 es de $55070.0\n",
      "Mientras que el precio sugerido por nuestro modelo para ese mismo auto es de $51963.09\n"
     ]
    }
   ],
   "source": [
    "print(f\"El precio real del auto {test_1.iloc[0].make} {test_1.iloc[0].model} modelo {test_1.iloc[0].year} es de ${np.round(real_prices[0],2)}\")\n",
    "print(f\"Mientras que el precio sugerido por nuestro modelo para ese mismo auto es de ${np.round(suggested_prices[0],2)}\")"
   ]
  },
  {
   "cell_type": "code",
   "execution_count": 102,
   "metadata": {},
   "outputs": [
    {
     "name": "stdout",
     "output_type": "stream",
     "text": [
      "El precio real del auto gmc sierra_1500_hybrid modelo 2013 es de $52780.0\n",
      "Mientras que el precio sugerido por nuestro modelo para ese mismo auto es de $47409.86\n"
     ]
    }
   ],
   "source": [
    "print(f\"El precio real del auto {test_1.iloc[5].make} {test_1.iloc[5].model} modelo {test_1.iloc[5].year} es de ${np.round(real_prices[5],2)}\")\n",
    "print(f\"Mientras que el precio sugerido por nuestro modelo para ese mismo auto es de ${np.round(suggested_prices[5],2)}\")"
   ]
  },
  {
   "cell_type": "markdown",
   "metadata": {},
   "source": [
    "## Conclusiones\n",
    "\n",
    " - El análisis exploratorio de datos inicial es de suma importancia. Nos ayuda a encontrar si los datos tienen valores faltantes. Ya que para un modelo de regresión lineal es imposible entrenar con valores nulos.\n",
    "\n",
    " - Una parte importante de la exploración inicial de los datos es el revisar la distribución de la variable objetivo. Si la distribución presenta colas largas, es necesario aplicar una transformación logaritmo. Sin ella, podríamos obtener resultados inadecuados.\n",
    "\n",
    " - Una de las mejores prácticas en modelos de aprendizaje automático es la separación de los conjuntos de entrenamiento, validación y prueba para revisar el desempeño del modelo.\n",
    "\n",
    " - Las métricas de evaluación, como el error cuadrático medio, RMSE, nos da una manera de medir el desempeño de predicción de nuestro modelo sobre el conjunto de validación. Lo que nos ayuda a confirmar si el modelo es adecuado y además nos apoya para comparar distintos modelos para así encontrar el mejor.\n",
    "\n",
    " - La ingeniería de características (feature engineering) es el proceso de crear nuevas características. Añadir estas características tiene un grado de importancia para mejorar el desempeño del modelo. Al añadirlas, siempre tenemos que utilizar el conjunto de validación para garantizar que en efecto nuestro modelo mejora.\n",
    "\n",
    " - En ocasiones se presentarán problemas de inestabilidad numérica, los cuales pueden resolverse con técnicas de regularización.\n",
    "\n",
    " - Después de que el modelo es entrenado y validado, podemos utilizarlo para hacer predicciones."
   ]
  }
 ],
 "metadata": {
  "kernelspec": {
   "display_name": "Python 3",
   "language": "python",
   "name": "python3"
  },
  "language_info": {
   "codemirror_mode": {
    "name": "ipython",
    "version": 3
   },
   "file_extension": ".py",
   "mimetype": "text/x-python",
   "name": "python",
   "nbconvert_exporter": "python",
   "pygments_lexer": "ipython3",
   "version": "3.12.1"
  }
 },
 "nbformat": 4,
 "nbformat_minor": 2
}
